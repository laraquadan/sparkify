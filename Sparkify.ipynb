{
 "cells": [
  {
   "cell_type": "markdown",
   "metadata": {},
   "source": [
    "# Sparkify Project Workspace\n",
    "This workspace contains a tiny subset (128MB) of the full dataset available (12GB). Feel free to use this workspace to build your project, or to explore a smaller subset with Spark before deploying your cluster on the cloud. Instructions for setting up your Spark cluster is included in the last lesson of the Extracurricular Spark Course content.\n",
    "\n",
    "You can follow the steps below to guide your data analysis and model building portion of this project."
   ]
  },
  {
   "cell_type": "code",
   "execution_count": 145,
   "metadata": {},
   "outputs": [],
   "source": [
    "# import libraries\n",
    "from pyspark.sql import SparkSession, Window\n",
    "from pyspark.sql.functions import count, col, when, isnan, udf, countDistinct, avg, when, col\n",
    "from pyspark.sql.functions import max as sparkMax\n",
    "from pyspark.sql.types import IntegerType, DoubleType\n",
    "import datetime\n",
    "import numpy as np\n",
    "import pandas as pd\n",
    "import matplotlib.pyplot as plt\n",
    "import seaborn as sns\n",
    "%matplotlib inline\n",
    "\n",
    "from pyspark.ml import Pipeline\n",
    "from pyspark.ml.feature import MinMaxScaler, VectorAssembler, Normalizer, StandardScaler\n",
    "from pyspark.ml.classification import LogisticRegression, RandomForestClassifier, GBTClassifier\n",
    "from pyspark.ml.evaluation import BinaryClassificationEvaluator, MulticlassClassificationEvaluator\n",
    "from pyspark.ml.tuning import CrossValidator, ParamGridBuilder\n"
   ]
  },
  {
   "cell_type": "code",
   "execution_count": 146,
   "metadata": {},
   "outputs": [],
   "source": [
    "# create a Spark session\n",
    "spark = SparkSession.builder \\\n",
    "    .master(\"local\") \\\n",
    "    .appName(\"Sparkify\") \\\n",
    "    .getOrCreate()"
   ]
  },
  {
   "cell_type": "code",
   "execution_count": 147,
   "metadata": {},
   "outputs": [],
   "source": [
    "spark.conf.set('spark.executor.memory', '32gb')\n",
    "spark.conf.set('spark.driver.memory','32gb')"
   ]
  },
  {
   "cell_type": "markdown",
   "metadata": {},
   "source": [
    "# Load and Clean Dataset\n",
    "In this workspace, the mini-dataset file is `mini_sparkify_event_data.json`. Load and clean the dataset, checking for invalid or missing data - for example, records without userids or sessionids. "
   ]
  },
  {
   "cell_type": "code",
   "execution_count": 148,
   "metadata": {},
   "outputs": [],
   "source": [
    "sparkify_data = 'mini_sparkify_event_data.json'\n",
    "df = spark.read.json(sparkify_data)"
   ]
  },
  {
   "cell_type": "code",
   "execution_count": 149,
   "metadata": {},
   "outputs": [
    {
     "data": {
      "text/plain": [
       "[Row(artist='Martha Tilston', auth='Logged In', firstName='Colin', gender='M', itemInSession=50, lastName='Freeman', length=277.89016, level='paid', location='Bakersfield, CA', method='PUT', page='NextSong', registration=1538173362000, sessionId=29, song='Rockpools', status=200, ts=1538352117000, userAgent='Mozilla/5.0 (Windows NT 6.1; WOW64; rv:31.0) Gecko/20100101 Firefox/31.0', userId='30'),\n",
       " Row(artist='Five Iron Frenzy', auth='Logged In', firstName='Micah', gender='M', itemInSession=79, lastName='Long', length=236.09424, level='free', location='Boston-Cambridge-Newton, MA-NH', method='PUT', page='NextSong', registration=1538331630000, sessionId=8, song='Canada', status=200, ts=1538352180000, userAgent='\"Mozilla/5.0 (Windows NT 6.1; WOW64) AppleWebKit/537.36 (KHTML, like Gecko) Chrome/37.0.2062.103 Safari/537.36\"', userId='9')]"
      ]
     },
     "execution_count": 149,
     "metadata": {},
     "output_type": "execute_result"
    }
   ],
   "source": [
    "df.head(2)"
   ]
  },
  {
   "cell_type": "code",
   "execution_count": 150,
   "metadata": {},
   "outputs": [
    {
     "data": {
      "text/plain": [
       "DataFrame[artist: string, auth: string, firstName: string, gender: string, itemInSession: bigint, lastName: string, length: double, level: string, location: string, method: string, page: string, registration: bigint, sessionId: bigint, song: string, status: bigint, ts: bigint, userAgent: string, userId: string]"
      ]
     },
     "execution_count": 150,
     "metadata": {},
     "output_type": "execute_result"
    }
   ],
   "source": [
    "df.persist()"
   ]
  },
  {
   "cell_type": "code",
   "execution_count": 151,
   "metadata": {},
   "outputs": [
    {
     "name": "stdout",
     "output_type": "stream",
     "text": [
      "root\n",
      " |-- artist: string (nullable = true)\n",
      " |-- auth: string (nullable = true)\n",
      " |-- firstName: string (nullable = true)\n",
      " |-- gender: string (nullable = true)\n",
      " |-- itemInSession: long (nullable = true)\n",
      " |-- lastName: string (nullable = true)\n",
      " |-- length: double (nullable = true)\n",
      " |-- level: string (nullable = true)\n",
      " |-- location: string (nullable = true)\n",
      " |-- method: string (nullable = true)\n",
      " |-- page: string (nullable = true)\n",
      " |-- registration: long (nullable = true)\n",
      " |-- sessionId: long (nullable = true)\n",
      " |-- song: string (nullable = true)\n",
      " |-- status: long (nullable = true)\n",
      " |-- ts: long (nullable = true)\n",
      " |-- userAgent: string (nullable = true)\n",
      " |-- userId: string (nullable = true)\n",
      "\n"
     ]
    }
   ],
   "source": [
    "df.printSchema()"
   ]
  },
  {
   "cell_type": "markdown",
   "metadata": {},
   "source": [
    "First some columns that are not useful for the model can be dropped: firstName and lastName can be dropped since the userId uniquely identifies each user. Also, the artist and song columns can be dropped since they have no effect on user churn, since it is the pick of the user."
   ]
  },
  {
   "cell_type": "code",
   "execution_count": 152,
   "metadata": {},
   "outputs": [
    {
     "name": "stdout",
     "output_type": "stream",
     "text": [
      "+------+----+---------+------+-------------+--------+------+-----+--------+------+----+------------+---------+----+------+---+---------+------+\n",
      "|artist|auth|firstName|gender|itemInSession|lastName|length|level|location|method|page|registration|sessionId|song|status| ts|userAgent|userId|\n",
      "+------+----+---------+------+-------------+--------+------+-----+--------+------+----+------------+---------+----+------+---+---------+------+\n",
      "|     0|   0|        0|     0|            0|       0|     0|    0|       0|     0|   0|           0|        0|   0|     0|  0|        0|  8346|\n",
      "+------+----+---------+------+-------------+--------+------+-----+--------+------+----+------------+---------+----+------+---+---------+------+\n",
      "\n"
     ]
    }
   ],
   "source": [
    "df.select([count(when(col(c)==\"\", c)).alias(c) for c in df.columns]).show()"
   ]
  },
  {
   "cell_type": "code",
   "execution_count": 153,
   "metadata": {},
   "outputs": [
    {
     "name": "stdout",
     "output_type": "stream",
     "text": [
      "+------+----+---------+------+-------------+--------+------+-----+--------+------+----+------------+---------+-----+------+---+---------+------+\n",
      "|artist|auth|firstName|gender|itemInSession|lastName|length|level|location|method|page|registration|sessionId| song|status| ts|userAgent|userId|\n",
      "+------+----+---------+------+-------------+--------+------+-----+--------+------+----+------------+---------+-----+------+---+---------+------+\n",
      "| 58392|   0|     8346|  8346|            0|    8346| 58392|    0|    8346|     0|   0|        8346|        0|58392|     0|  0|     8346|     0|\n",
      "+------+----+---------+------+-------------+--------+------+-----+--------+------+----+------------+---------+-----+------+---+---------+------+\n",
      "\n"
     ]
    }
   ],
   "source": [
    "df.select([count(when(isnan(c) | col(c).isNull(), c)).alias(c) for c in df.columns]).show()"
   ]
  },
  {
   "cell_type": "code",
   "execution_count": 154,
   "metadata": {},
   "outputs": [],
   "source": [
    "#drop rows with null values\n",
    "df_clean = df.dropna(how='any',subset=['userId','sessionId'])\n",
    "df_clean = df_clean.filter(df[\"userId\"] != \"\")"
   ]
  },
  {
   "cell_type": "code",
   "execution_count": 155,
   "metadata": {},
   "outputs": [
    {
     "data": {
      "text/plain": [
       "278154"
      ]
     },
     "execution_count": 155,
     "metadata": {},
     "output_type": "execute_result"
    }
   ],
   "source": [
    "df_clean.count()"
   ]
  },
  {
   "cell_type": "code",
   "execution_count": 156,
   "metadata": {},
   "outputs": [
    {
     "data": {
      "text/plain": [
       "286500"
      ]
     },
     "execution_count": 156,
     "metadata": {},
     "output_type": "execute_result"
    }
   ],
   "source": [
    "df.count()"
   ]
  },
  {
   "cell_type": "markdown",
   "metadata": {},
   "source": [
    "# Exploratory Data Analysis\n",
    "When you're working with the full dataset, perform EDA by loading a small subset of the data and doing basic manipulations within Spark. In this workspace, you are already provided a small subset of data you can explore.\n",
    "\n",
    "### Define Churn\n",
    "\n",
    "Once you've done some preliminary analysis, create a column `Churn` to use as the label for your model. I suggest using the `Cancellation Confirmation` events to define your churn, which happen for both paid and free users. As a bonus task, you can also look into the `Downgrade` events.\n",
    "\n",
    "### Explore Data\n",
    "Once you've defined churn, perform some exploratory data analysis to observe the behavior for users who stayed vs users who churned. You can start by exploring aggregates on these two groups of users, observing how much of a specific action they experienced per a certain time unit or number of songs played."
   ]
  },
  {
   "cell_type": "code",
   "execution_count": 157,
   "metadata": {},
   "outputs": [
    {
     "data": {
      "text/plain": [
       "[Row(auth='Cancelled'), Row(auth='Logged In')]"
      ]
     },
     "execution_count": 157,
     "metadata": {},
     "output_type": "execute_result"
    }
   ],
   "source": [
    "df_clean.select('auth').dropDuplicates().collect()"
   ]
  },
  {
   "cell_type": "code",
   "execution_count": 158,
   "metadata": {},
   "outputs": [
    {
     "data": {
      "text/plain": [
       "[Row(gender='F'), Row(gender='M')]"
      ]
     },
     "execution_count": 158,
     "metadata": {},
     "output_type": "execute_result"
    }
   ],
   "source": [
    "df_clean.select('gender').dropDuplicates().collect()"
   ]
  },
  {
   "cell_type": "code",
   "execution_count": 159,
   "metadata": {},
   "outputs": [
    {
     "data": {
      "text/plain": [
       "[Row(max(itemInSession)=1321)]"
      ]
     },
     "execution_count": 159,
     "metadata": {},
     "output_type": "execute_result"
    }
   ],
   "source": [
    "df_clean.agg({'itemInSession':'max'}).collect()"
   ]
  },
  {
   "cell_type": "code",
   "execution_count": 160,
   "metadata": {},
   "outputs": [
    {
     "data": {
      "text/plain": [
       "[Row(max(length)=3024.66567)]"
      ]
     },
     "execution_count": 160,
     "metadata": {},
     "output_type": "execute_result"
    }
   ],
   "source": [
    "df_clean.agg({'length':'max'}).collect()"
   ]
  },
  {
   "cell_type": "code",
   "execution_count": 161,
   "metadata": {},
   "outputs": [
    {
     "data": {
      "text/plain": [
       "[Row(level='free'), Row(level='paid')]"
      ]
     },
     "execution_count": 161,
     "metadata": {},
     "output_type": "execute_result"
    }
   ],
   "source": [
    "df_clean.select('level').dropDuplicates().collect()"
   ]
  },
  {
   "cell_type": "code",
   "execution_count": 162,
   "metadata": {},
   "outputs": [
    {
     "name": "stdout",
     "output_type": "stream",
     "text": [
      "+--------------------+\n",
      "|            location|\n",
      "+--------------------+\n",
      "|     Gainesville, FL|\n",
      "|Atlantic City-Ham...|\n",
      "|Deltona-Daytona B...|\n",
      "|San Diego-Carlsba...|\n",
      "|Cleveland-Elyria, OH|\n",
      "|Kingsport-Bristol...|\n",
      "|New Haven-Milford...|\n",
      "|Birmingham-Hoover...|\n",
      "|  Corpus Christi, TX|\n",
      "|         Dubuque, IA|\n",
      "+--------------------+\n",
      "only showing top 10 rows\n",
      "\n"
     ]
    }
   ],
   "source": [
    "df_clean.select('location').dropDuplicates().show(10)"
   ]
  },
  {
   "cell_type": "code",
   "execution_count": 163,
   "metadata": {},
   "outputs": [
    {
     "data": {
      "text/plain": [
       "[Row(page='Cancel'),\n",
       " Row(page='Submit Downgrade'),\n",
       " Row(page='Thumbs Down'),\n",
       " Row(page='Home'),\n",
       " Row(page='Downgrade'),\n",
       " Row(page='Roll Advert'),\n",
       " Row(page='Logout'),\n",
       " Row(page='Save Settings'),\n",
       " Row(page='Cancellation Confirmation'),\n",
       " Row(page='About'),\n",
       " Row(page='Settings'),\n",
       " Row(page='Add to Playlist'),\n",
       " Row(page='Add Friend'),\n",
       " Row(page='NextSong'),\n",
       " Row(page='Thumbs Up'),\n",
       " Row(page='Help'),\n",
       " Row(page='Upgrade'),\n",
       " Row(page='Error'),\n",
       " Row(page='Submit Upgrade')]"
      ]
     },
     "execution_count": 163,
     "metadata": {},
     "output_type": "execute_result"
    }
   ],
   "source": [
    "df_clean.select('page').dropDuplicates().collect()"
   ]
  },
  {
   "cell_type": "code",
   "execution_count": 164,
   "metadata": {},
   "outputs": [
    {
     "data": {
      "text/plain": [
       "[Row(method='PUT'), Row(method='GET')]"
      ]
     },
     "execution_count": 164,
     "metadata": {},
     "output_type": "execute_result"
    }
   ],
   "source": [
    "df_clean.select('method').dropDuplicates().collect()"
   ]
  },
  {
   "cell_type": "code",
   "execution_count": 165,
   "metadata": {},
   "outputs": [
    {
     "data": {
      "text/plain": [
       "[Row(status=307), Row(status=404), Row(status=200)]"
      ]
     },
     "execution_count": 165,
     "metadata": {},
     "output_type": "execute_result"
    }
   ],
   "source": [
    "df_clean.select('status').dropDuplicates().collect()"
   ]
  },
  {
   "cell_type": "code",
   "execution_count": 166,
   "metadata": {},
   "outputs": [
    {
     "name": "stdout",
     "output_type": "stream",
     "text": [
      "+--------------------+\n",
      "|           userAgent|\n",
      "+--------------------+\n",
      "|\"Mozilla/5.0 (Mac...|\n",
      "|\"Mozilla/5.0 (Win...|\n",
      "|Mozilla/5.0 (X11;...|\n",
      "|\"Mozilla/5.0 (Mac...|\n",
      "|\"Mozilla/5.0 (Mac...|\n",
      "+--------------------+\n",
      "only showing top 5 rows\n",
      "\n"
     ]
    }
   ],
   "source": [
    "df_clean.select('userAgent').dropDuplicates().show(5)"
   ]
  },
  {
   "cell_type": "code",
   "execution_count": 167,
   "metadata": {},
   "outputs": [
    {
     "name": "stdout",
     "output_type": "stream",
     "text": [
      "percentage of churn: 23.11%\n"
     ]
    }
   ],
   "source": [
    "#users who made cancellation\n",
    "df_canceled = df_clean.filter(df_clean.page == 'Cancellation Confirmation')\n",
    "num_churn = df_canceled.count()\n",
    "total_users = df_clean.select('userId').dropDuplicates().count()\n",
    "print('percentage of churn: {:.2f}%'.format((num_churn/total_users)*100))"
   ]
  },
  {
   "cell_type": "code",
   "execution_count": 168,
   "metadata": {},
   "outputs": [
    {
     "data": {
      "text/plain": [
       "[Row(artist='Martha Tilston', auth='Logged In', firstName='Colin', gender='M', itemInSession=50, lastName='Freeman', length=277.89016, level='paid', location='Bakersfield, CA', method='PUT', page='NextSong', registration=1538173362000, sessionId=29, song='Rockpools', status=200, ts=1538352117000, userAgent='Mozilla/5.0 (Windows NT 6.1; WOW64; rv:31.0) Gecko/20100101 Firefox/31.0', userId='30', churn=0.0)]"
      ]
     },
     "execution_count": 168,
     "metadata": {},
     "output_type": "execute_result"
    }
   ],
   "source": [
    "#Define churn column\n",
    "check_churn = udf(lambda x: 1 if x == 'Cancellation Confirmation' else 0)\n",
    "df_clean = df_clean.withColumn('churn',check_churn(df_clean.page).cast(DoubleType()) )\n",
    "df_clean.head(1)"
   ]
  },
  {
   "cell_type": "code",
   "execution_count": 169,
   "metadata": {},
   "outputs": [
    {
     "data": {
      "text/plain": [
       "[Row(userId='32', page='NextSong', ts=1538578897000, level='free', sessionId=218),\n",
       " Row(userId='32', page='NextSong', ts=1538579134000, level='free', sessionId=218),\n",
       " Row(userId='32', page='NextSong', ts=1538579540000, level='free', sessionId=218),\n",
       " Row(userId='32', page='Roll Advert', ts=1538579565000, level='free', sessionId=218),\n",
       " Row(userId='32', page='NextSong', ts=1538579814000, level='free', sessionId=218),\n",
       " Row(userId='32', page='Thumbs Up', ts=1538579815000, level='free', sessionId=218),\n",
       " Row(userId='32', page='NextSong', ts=1538580056000, level='free', sessionId=218),\n",
       " Row(userId='32', page='Add to Playlist', ts=1538580068000, level='free', sessionId=218),\n",
       " Row(userId='32', page='NextSong', ts=1538580267000, level='free', sessionId=218),\n",
       " Row(userId='32', page='NextSong', ts=1538580477000, level='free', sessionId=218),\n",
       " Row(userId='32', page='NextSong', ts=1538581129000, level='free', sessionId=218),\n",
       " Row(userId='32', page='NextSong', ts=1538581369000, level='free', sessionId=218),\n",
       " Row(userId='32', page='NextSong', ts=1538581726000, level='free', sessionId=218),\n",
       " Row(userId='32', page='NextSong', ts=1538581924000, level='free', sessionId=218),\n",
       " Row(userId='32', page='NextSong', ts=1538582217000, level='free', sessionId=218),\n",
       " Row(userId='32', page='NextSong', ts=1538582511000, level='free', sessionId=218),\n",
       " Row(userId='32', page='Roll Advert', ts=1538582541000, level='free', sessionId=218),\n",
       " Row(userId='32', page='Logout', ts=1538582542000, level='free', sessionId=218),\n",
       " Row(userId='32', page='Home', ts=1538582763000, level='free', sessionId=218),\n",
       " Row(userId='32', page='NextSong', ts=1538582788000, level='free', sessionId=218),\n",
       " Row(userId='32', page='NextSong', ts=1538582959000, level='free', sessionId=218),\n",
       " Row(userId='32', page='NextSong', ts=1538583211000, level='free', sessionId=218),\n",
       " Row(userId='32', page='Add to Playlist', ts=1538583240000, level='free', sessionId=218),\n",
       " Row(userId='32', page='NextSong', ts=1538583413000, level='free', sessionId=218),\n",
       " Row(userId='32', page='NextSong', ts=1538583682000, level='free', sessionId=218),\n",
       " Row(userId='32', page='Add to Playlist', ts=1538583714000, level='free', sessionId=218),\n",
       " Row(userId='32', page='NextSong', ts=1538583896000, level='free', sessionId=218),\n",
       " Row(userId='32', page='NextSong', ts=1538584102000, level='free', sessionId=218),\n",
       " Row(userId='32', page='NextSong', ts=1538584365000, level='free', sessionId=218),\n",
       " Row(userId='32', page='NextSong', ts=1538584654000, level='free', sessionId=218),\n",
       " Row(userId='32', page='NextSong', ts=1538584876000, level='free', sessionId=218),\n",
       " Row(userId='32', page='Thumbs Up', ts=1538584877000, level='free', sessionId=218),\n",
       " Row(userId='32', page='NextSong', ts=1538585100000, level='free', sessionId=218),\n",
       " Row(userId='32', page='NextSong', ts=1538585387000, level='free', sessionId=218),\n",
       " Row(userId='32', page='NextSong', ts=1538840277000, level='free', sessionId=404),\n",
       " Row(userId='32', page='Add to Playlist', ts=1538840295000, level='free', sessionId=404),\n",
       " Row(userId='32', page='NextSong', ts=1538840413000, level='free', sessionId=404),\n",
       " Row(userId='32', page='NextSong', ts=1538840792000, level='free', sessionId=404),\n",
       " Row(userId='32', page='NextSong', ts=1538840969000, level='free', sessionId=404),\n",
       " Row(userId='32', page='NextSong', ts=1538841141000, level='free', sessionId=404),\n",
       " Row(userId='32', page='NextSong', ts=1538841431000, level='free', sessionId=404),\n",
       " Row(userId='32', page='Thumbs Up', ts=1538841432000, level='free', sessionId=404),\n",
       " Row(userId='32', page='NextSong', ts=1538841623000, level='free', sessionId=404),\n",
       " Row(userId='32', page='NextSong', ts=1538841884000, level='free', sessionId=404),\n",
       " Row(userId='32', page='NextSong', ts=1538842075000, level='free', sessionId=404),\n",
       " Row(userId='32', page='NextSong', ts=1538842285000, level='free', sessionId=404),\n",
       " Row(userId='32', page='NextSong', ts=1538842573000, level='free', sessionId=404),\n",
       " Row(userId='32', page='NextSong', ts=1538842823000, level='free', sessionId=404),\n",
       " Row(userId='32', page='Thumbs Up', ts=1538842824000, level='free', sessionId=404),\n",
       " Row(userId='32', page='NextSong', ts=1538843073000, level='free', sessionId=404),\n",
       " Row(userId='32', page='Thumbs Up', ts=1538843074000, level='free', sessionId=404),\n",
       " Row(userId='32', page='NextSong', ts=1539022740000, level='free', sessionId=540),\n",
       " Row(userId='32', page='NextSong', ts=1539022944000, level='free', sessionId=540),\n",
       " Row(userId='32', page='NextSong', ts=1539023204000, level='free', sessionId=540),\n",
       " Row(userId='32', page='NextSong', ts=1539023448000, level='free', sessionId=540),\n",
       " Row(userId='32', page='Roll Advert', ts=1539023476000, level='free', sessionId=540),\n",
       " Row(userId='32', page='NextSong', ts=1539023601000, level='free', sessionId=540),\n",
       " Row(userId='32', page='NextSong', ts=1539023728000, level='free', sessionId=540),\n",
       " Row(userId='32', page='NextSong', ts=1539023939000, level='free', sessionId=540),\n",
       " Row(userId='32', page='NextSong', ts=1539024197000, level='free', sessionId=540),\n",
       " Row(userId='32', page='NextSong', ts=1539024477000, level='free', sessionId=540),\n",
       " Row(userId='32', page='Upgrade', ts=1539024605000, level='free', sessionId=540),\n",
       " Row(userId='32', page='Submit Upgrade', ts=1539024606000, level='free', sessionId=540),\n",
       " Row(userId='32', page='Home', ts=1539024755000, level='paid', sessionId=540),\n",
       " Row(userId='32', page='NextSong', ts=1539024757000, level='paid', sessionId=540),\n",
       " Row(userId='32', page='NextSong', ts=1539025168000, level='paid', sessionId=540),\n",
       " Row(userId='32', page='NextSong', ts=1539025384000, level='paid', sessionId=540),\n",
       " Row(userId='32', page='NextSong', ts=1539025587000, level='paid', sessionId=540),\n",
       " Row(userId='32', page='NextSong', ts=1539025834000, level='paid', sessionId=540),\n",
       " Row(userId='32', page='NextSong', ts=1539026033000, level='paid', sessionId=540),\n",
       " Row(userId='32', page='NextSong', ts=1539026214000, level='paid', sessionId=540),\n",
       " Row(userId='32', page='NextSong', ts=1539026483000, level='paid', sessionId=540),\n",
       " Row(userId='32', page='NextSong', ts=1539026688000, level='paid', sessionId=540),\n",
       " Row(userId='32', page='NextSong', ts=1539026906000, level='paid', sessionId=540),\n",
       " Row(userId='32', page='NextSong', ts=1539027202000, level='paid', sessionId=540),\n",
       " Row(userId='32', page='NextSong', ts=1539027448000, level='paid', sessionId=540),\n",
       " Row(userId='32', page='NextSong', ts=1539027652000, level='paid', sessionId=540),\n",
       " Row(userId='32', page='NextSong', ts=1539028009000, level='paid', sessionId=540),\n",
       " Row(userId='32', page='NextSong', ts=1539028351000, level='paid', sessionId=540),\n",
       " Row(userId='32', page='Thumbs Up', ts=1539028352000, level='paid', sessionId=540),\n",
       " Row(userId='32', page='NextSong', ts=1539028575000, level='paid', sessionId=540),\n",
       " Row(userId='32', page='NextSong', ts=1539028794000, level='paid', sessionId=540),\n",
       " Row(userId='32', page='NextSong', ts=1539028935000, level='paid', sessionId=540),\n",
       " Row(userId='32', page='Thumbs Down', ts=1539028936000, level='paid', sessionId=540),\n",
       " Row(userId='32', page='NextSong', ts=1539029106000, level='paid', sessionId=540),\n",
       " Row(userId='32', page='Add to Playlist', ts=1539029266000, level='paid', sessionId=540),\n",
       " Row(userId='32', page='NextSong', ts=1539029315000, level='paid', sessionId=540),\n",
       " Row(userId='32', page='NextSong', ts=1539029770000, level='paid', sessionId=540),\n",
       " Row(userId='32', page='NextSong', ts=1539029965000, level='paid', sessionId=540),\n",
       " Row(userId='32', page='Thumbs Up', ts=1539029966000, level='paid', sessionId=540),\n",
       " Row(userId='32', page='Add to Playlist', ts=1539030139000, level='paid', sessionId=540),\n",
       " Row(userId='32', page='NextSong', ts=1539030174000, level='paid', sessionId=540),\n",
       " Row(userId='32', page='Downgrade', ts=1539030302000, level='paid', sessionId=540),\n",
       " Row(userId='32', page='Home', ts=1539030575000, level='paid', sessionId=540),\n",
       " Row(userId='32', page='NextSong', ts=1539030623000, level='paid', sessionId=540),\n",
       " Row(userId='32', page='NextSong', ts=1539030942000, level='paid', sessionId=540),\n",
       " Row(userId='32', page='Add to Playlist', ts=1539031152000, level='paid', sessionId=540),\n",
       " Row(userId='32', page='NextSong', ts=1539031179000, level='paid', sessionId=540),\n",
       " Row(userId='32', page='NextSong', ts=1539031426000, level='paid', sessionId=540),\n",
       " Row(userId='32', page='NextSong', ts=1539031661000, level='paid', sessionId=540),\n",
       " Row(userId='32', page='NextSong', ts=1539031887000, level='paid', sessionId=540),\n",
       " Row(userId='32', page='NextSong', ts=1539032235000, level='paid', sessionId=540),\n",
       " Row(userId='32', page='NextSong', ts=1539032608000, level='paid', sessionId=540),\n",
       " Row(userId='32', page='NextSong', ts=1539032741000, level='paid', sessionId=540),\n",
       " Row(userId='32', page='NextSong', ts=1539032978000, level='paid', sessionId=540),\n",
       " Row(userId='32', page='Downgrade', ts=1539033030000, level='paid', sessionId=540),\n",
       " Row(userId='32', page='Cancel', ts=1539033031000, level='paid', sessionId=540),\n",
       " Row(userId='32', page='Cancellation Confirmation', ts=1539033046000, level='paid', sessionId=540)]"
      ]
     },
     "execution_count": 169,
     "metadata": {},
     "output_type": "execute_result"
    }
   ],
   "source": [
    "#look and the history for user 18 who churned\n",
    "df_clean.select([\"userId\", \"page\", \"ts\", \"level\", \"sessionId\"]).where(df_clean.userId == 32).sort('ts').collect()"
   ]
  },
  {
   "cell_type": "code",
   "execution_count": 170,
   "metadata": {},
   "outputs": [],
   "source": [
    "churn_users = df_canceled.select('userId').collect() \n",
    "list_churn_users = [ row.userId for row in churn_users ]\n"
   ]
  },
  {
   "cell_type": "code",
   "execution_count": 171,
   "metadata": {},
   "outputs": [],
   "source": [
    "df_sessions_per_user = df_clean.groupBy('userId').agg(countDistinct('sessionId').alias('sessions')).collect()"
   ]
  },
  {
   "cell_type": "code",
   "execution_count": 172,
   "metadata": {},
   "outputs": [
    {
     "data": {
      "text/plain": [
       "[Row(userId='10', gender='M', sessions=6, paid_sessions=6, free_sessions=0, songs=629, errors=0, help=1, resp_error=65, churn=0),\n",
       " Row(userId='100', gender='M', sessions=35, paid_sessions=29, free_sessions=8, songs=2302, errors=3, help=18, resp_error=269, churn=0),\n",
       " Row(userId='100001', gender='F', sessions=4, paid_sessions=0, free_sessions=4, songs=129, errors=1, help=1, resp_error=21, churn=1),\n",
       " Row(userId='100002', gender='F', sessions=4, paid_sessions=4, free_sessions=0, songs=193, errors=0, help=0, resp_error=7, churn=0),\n",
       " Row(userId='100003', gender='F', sessions=2, paid_sessions=0, free_sessions=2, songs=51, errors=0, help=1, resp_error=7, churn=1),\n",
       " Row(userId='100004', gender='F', sessions=21, paid_sessions=9, free_sessions=16, songs=881, errors=2, help=6, resp_error=93, churn=0),\n",
       " Row(userId='100005', gender='M', sessions=5, paid_sessions=0, free_sessions=5, songs=153, errors=0, help=2, resp_error=17, churn=1),\n",
       " Row(userId='100006', gender='F', sessions=1, paid_sessions=0, free_sessions=1, songs=26, errors=0, help=0, resp_error=10, churn=1),\n",
       " Row(userId='100007', gender='F', sessions=9, paid_sessions=9, free_sessions=0, songs=408, errors=0, help=3, resp_error=49, churn=1),\n",
       " Row(userId='100008', gender='F', sessions=6, paid_sessions=5, free_sessions=2, songs=723, errors=0, help=6, resp_error=68, churn=0),\n",
       " Row(userId='100009', gender='M', sessions=10, paid_sessions=4, free_sessions=8, songs=501, errors=0, help=6, resp_error=55, churn=1),\n",
       " Row(userId='100010', gender='F', sessions=7, paid_sessions=0, free_sessions=7, songs=269, errors=0, help=2, resp_error=31, churn=0),\n",
       " Row(userId='100011', gender='M', sessions=1, paid_sessions=0, free_sessions=1, songs=11, errors=0, help=0, resp_error=2, churn=1),\n",
       " Row(userId='100012', gender='M', sessions=7, paid_sessions=2, free_sessions=7, songs=453, errors=0, help=2, resp_error=38, churn=1),\n",
       " Row(userId='100013', gender='F', sessions=14, paid_sessions=12, free_sessions=3, songs=1041, errors=2, help=9, resp_error=102, churn=1),\n",
       " Row(userId='100014', gender='M', sessions=6, paid_sessions=6, free_sessions=0, songs=248, errors=0, help=2, resp_error=30, churn=1),\n",
       " Row(userId='100015', gender='F', sessions=12, paid_sessions=7, free_sessions=8, songs=755, errors=1, help=6, resp_error=81, churn=1),\n",
       " Row(userId='100016', gender='M', sessions=8, paid_sessions=7, free_sessions=2, songs=493, errors=1, help=3, resp_error=54, churn=0),\n",
       " Row(userId='100017', gender='M', sessions=1, paid_sessions=0, free_sessions=1, songs=51, errors=0, help=0, resp_error=4, churn=1),\n",
       " Row(userId='100018', gender='M', sessions=21, paid_sessions=18, free_sessions=6, songs=942, errors=0, help=7, resp_error=102, churn=0),\n",
       " Row(userId='100019', gender='M', sessions=2, paid_sessions=0, free_sessions=2, songs=61, errors=0, help=1, resp_error=7, churn=1),\n",
       " Row(userId='100021', gender='M', sessions=5, paid_sessions=0, free_sessions=5, songs=226, errors=2, help=0, resp_error=33, churn=1),\n",
       " Row(userId='100022', gender='F', sessions=20, paid_sessions=0, free_sessions=20, songs=634, errors=1, help=6, resp_error=94, churn=1),\n",
       " Row(userId='100023', gender='M', sessions=10, paid_sessions=9, free_sessions=2, songs=391, errors=0, help=3, resp_error=33, churn=1),\n",
       " Row(userId='100024', gender='M', sessions=1, paid_sessions=0, free_sessions=1, songs=22, errors=0, help=0, resp_error=6, churn=1),\n",
       " Row(userId='100025', gender='F', sessions=7, paid_sessions=6, free_sessions=2, songs=471, errors=1, help=5, resp_error=43, churn=1),\n",
       " Row(userId='101', gender='M', sessions=10, paid_sessions=8, free_sessions=3, songs=1608, errors=3, help=12, resp_error=162, churn=1),\n",
       " Row(userId='102', gender='M', sessions=8, paid_sessions=0, free_sessions=8, songs=157, errors=1, help=0, resp_error=14, churn=0),\n",
       " Row(userId='103', gender='F', sessions=11, paid_sessions=6, free_sessions=7, songs=981, errors=0, help=7, resp_error=105, churn=1),\n",
       " Row(userId='104', gender='F', sessions=26, paid_sessions=18, free_sessions=9, songs=1571, errors=1, help=15, resp_error=149, churn=0),\n",
       " Row(userId='105', gender='M', sessions=5, paid_sessions=5, free_sessions=1, songs=723, errors=2, help=2, resp_error=83, churn=1),\n",
       " Row(userId='106', gender='F', sessions=12, paid_sessions=10, free_sessions=3, songs=778, errors=0, help=5, resp_error=92, churn=1),\n",
       " Row(userId='107', gender='F', sessions=4, paid_sessions=0, free_sessions=4, songs=239, errors=0, help=0, resp_error=24, churn=0),\n",
       " Row(userId='108', gender='F', sessions=6, paid_sessions=4, free_sessions=3, songs=598, errors=0, help=5, resp_error=53, churn=0),\n",
       " Row(userId='109', gender='F', sessions=12, paid_sessions=10, free_sessions=4, songs=689, errors=0, help=10, resp_error=55, churn=0),\n",
       " Row(userId='11', gender='F', sessions=16, paid_sessions=4, free_sessions=14, songs=616, errors=1, help=3, resp_error=75, churn=0),\n",
       " Row(userId='110', gender='M', sessions=5, paid_sessions=0, free_sessions=5, songs=172, errors=0, help=0, resp_error=25, churn=0),\n",
       " Row(userId='111', gender='F', sessions=7, paid_sessions=3, free_sessions=5, songs=656, errors=2, help=3, resp_error=72, churn=0),\n",
       " Row(userId='112', gender='M', sessions=10, paid_sessions=0, free_sessions=10, songs=211, errors=0, help=1, resp_error=25, churn=0),\n",
       " Row(userId='113', gender='F', sessions=24, paid_sessions=22, free_sessions=3, songs=1429, errors=3, help=7, resp_error=151, churn=0),\n",
       " Row(userId='114', gender='M', sessions=17, paid_sessions=13, free_sessions=5, songs=1177, errors=2, help=10, resp_error=119, churn=0),\n",
       " Row(userId='115', gender='F', sessions=10, paid_sessions=9, free_sessions=2, songs=1564, errors=3, help=9, resp_error=180, churn=0),\n",
       " Row(userId='116', gender='F', sessions=3, paid_sessions=0, free_sessions=3, songs=62, errors=0, help=0, resp_error=4, churn=0),\n",
       " Row(userId='117', gender='F', sessions=13, paid_sessions=0, free_sessions=13, songs=325, errors=2, help=1, resp_error=33, churn=0),\n",
       " Row(userId='118', gender='F', sessions=24, paid_sessions=22, free_sessions=3, songs=2064, errors=2, help=14, resp_error=245, churn=0),\n",
       " Row(userId='119', gender='F', sessions=6, paid_sessions=0, free_sessions=6, songs=171, errors=1, help=3, resp_error=16, churn=0),\n",
       " Row(userId='12', gender='F', sessions=9, paid_sessions=5, free_sessions=7, songs=817, errors=2, help=6, resp_error=82, churn=1),\n",
       " Row(userId='120', gender='F', sessions=14, paid_sessions=14, free_sessions=0, songs=1424, errors=1, help=5, resp_error=137, churn=0),\n",
       " Row(userId='121', gender='M', sessions=13, paid_sessions=5, free_sessions=9, songs=681, errors=0, help=3, resp_error=79, churn=1),\n",
       " Row(userId='122', gender='F', sessions=4, paid_sessions=1, free_sessions=4, songs=41, errors=0, help=0, resp_error=8, churn=1),\n",
       " Row(userId='123', gender='M', sessions=8, paid_sessions=0, free_sessions=8, songs=150, errors=0, help=1, resp_error=15, churn=0),\n",
       " Row(userId='124', gender='F', sessions=29, paid_sessions=29, free_sessions=0, songs=3339, errors=6, help=23, resp_error=357, churn=0),\n",
       " Row(userId='125', gender='M', sessions=1, paid_sessions=0, free_sessions=1, songs=8, errors=0, help=0, resp_error=1, churn=1),\n",
       " Row(userId='126', gender='M', sessions=30, paid_sessions=17, free_sessions=14, songs=2229, errors=2, help=15, resp_error=235, churn=0),\n",
       " Row(userId='127', gender='F', sessions=17, paid_sessions=17, free_sessions=0, songs=1587, errors=2, help=12, resp_error=162, churn=0),\n",
       " Row(userId='128', gender='M', sessions=17, paid_sessions=14, free_sessions=4, songs=1539, errors=2, help=6, resp_error=162, churn=0),\n",
       " Row(userId='129', gender='M', sessions=7, paid_sessions=5, free_sessions=3, songs=315, errors=1, help=2, resp_error=34, churn=1),\n",
       " Row(userId='13', gender='F', sessions=33, paid_sessions=4, free_sessions=31, songs=1171, errors=0, help=8, resp_error=146, churn=0),\n",
       " Row(userId='131', gender='M', sessions=19, paid_sessions=16, free_sessions=5, songs=1403, errors=4, help=13, resp_error=145, churn=0),\n",
       " Row(userId='132', gender='F', sessions=16, paid_sessions=16, free_sessions=1, songs=1718, errors=3, help=16, resp_error=196, churn=0),\n",
       " Row(userId='133', gender='M', sessions=1, paid_sessions=0, free_sessions=1, songs=32, errors=0, help=0, resp_error=5, churn=0),\n",
       " Row(userId='134', gender='M', sessions=4, paid_sessions=0, free_sessions=4, songs=37, errors=0, help=0, resp_error=5, churn=0),\n",
       " Row(userId='135', gender='F', sessions=1, paid_sessions=0, free_sessions=1, songs=6, errors=0, help=0, resp_error=0, churn=0),\n",
       " Row(userId='136', gender='F', sessions=22, paid_sessions=16, free_sessions=7, songs=1873, errors=2, help=19, resp_error=217, churn=0),\n",
       " Row(userId='137', gender='M', sessions=3, paid_sessions=1, free_sessions=3, songs=153, errors=0, help=1, resp_error=23, churn=0),\n",
       " Row(userId='138', gender='M', sessions=15, paid_sessions=10, free_sessions=6, songs=1791, errors=1, help=13, resp_error=184, churn=0),\n",
       " Row(userId='139', gender='M', sessions=4, paid_sessions=4, free_sessions=1, songs=368, errors=1, help=1, resp_error=36, churn=0),\n",
       " Row(userId='14', gender='M', sessions=11, paid_sessions=11, free_sessions=0, songs=1128, errors=2, help=10, resp_error=95, churn=0),\n",
       " Row(userId='140', gender='F', sessions=71, paid_sessions=49, free_sessions=29, songs=4426, errors=7, help=34, resp_error=603, churn=0),\n",
       " Row(userId='141', gender='F', sessions=11, paid_sessions=11, free_sessions=1, songs=865, errors=0, help=5, resp_error=79, churn=0),\n",
       " Row(userId='142', gender='M', sessions=16, paid_sessions=16, free_sessions=1, songs=1666, errors=5, help=15, resp_error=183, churn=0),\n",
       " Row(userId='143', gender='F', sessions=6, paid_sessions=0, free_sessions=6, songs=99, errors=0, help=1, resp_error=13, churn=1),\n",
       " Row(userId='144', gender='M', sessions=3, paid_sessions=0, free_sessions=3, songs=98, errors=0, help=0, resp_error=9, churn=0),\n",
       " Row(userId='145', gender='F', sessions=15, paid_sessions=15, free_sessions=0, songs=1040, errors=0, help=1, resp_error=121, churn=0),\n",
       " Row(userId='146', gender='M', sessions=17, paid_sessions=0, free_sessions=17, songs=620, errors=1, help=6, resp_error=66, churn=0),\n",
       " Row(userId='147', gender='M', sessions=10, paid_sessions=4, free_sessions=7, songs=521, errors=0, help=7, resp_error=59, churn=0),\n",
       " Row(userId='148', gender='M', sessions=12, paid_sessions=0, free_sessions=12, songs=382, errors=0, help=3, resp_error=47, churn=0),\n",
       " Row(userId='149', gender='M', sessions=3, paid_sessions=0, free_sessions=3, songs=184, errors=0, help=1, resp_error=24, churn=0),\n",
       " Row(userId='15', gender='M', sessions=15, paid_sessions=15, free_sessions=0, songs=1707, errors=2, help=8, resp_error=157, churn=0),\n",
       " Row(userId='150', gender='M', sessions=9, paid_sessions=0, free_sessions=9, songs=177, errors=0, help=1, resp_error=13, churn=0),\n",
       " Row(userId='151', gender='M', sessions=1, paid_sessions=1, free_sessions=0, songs=137, errors=0, help=1, resp_error=11, churn=0),\n",
       " Row(userId='152', gender='M', sessions=20, paid_sessions=9, free_sessions=12, songs=1259, errors=2, help=9, resp_error=131, churn=0),\n",
       " Row(userId='153', gender='M', sessions=9, paid_sessions=9, free_sessions=1, songs=866, errors=3, help=7, resp_error=88, churn=0),\n",
       " Row(userId='154', gender='F', sessions=3, paid_sessions=0, free_sessions=3, songs=83, errors=0, help=1, resp_error=16, churn=0),\n",
       " Row(userId='155', gender='F', sessions=6, paid_sessions=5, free_sessions=2, songs=759, errors=3, help=9, resp_error=90, churn=0),\n",
       " Row(userId='156', gender='M', sessions=1, paid_sessions=0, free_sessions=1, songs=3, errors=0, help=0, resp_error=0, churn=0),\n",
       " Row(userId='16', gender='F', sessions=9, paid_sessions=9, free_sessions=1, songs=643, errors=0, help=8, resp_error=66, churn=0),\n",
       " Row(userId='17', gender='F', sessions=7, paid_sessions=5, free_sessions=3, songs=875, errors=0, help=5, resp_error=82, churn=1),\n",
       " Row(userId='18', gender='M', sessions=6, paid_sessions=6, free_sessions=0, songs=412, errors=0, help=1, resp_error=40, churn=1),\n",
       " Row(userId='19', gender='F', sessions=1, paid_sessions=1, free_sessions=0, songs=209, errors=0, help=0, resp_error=19, churn=0),\n",
       " Row(userId='2', gender='F', sessions=7, paid_sessions=7, free_sessions=0, songs=713, errors=0, help=4, resp_error=70, churn=0),\n",
       " Row(userId='20', gender='F', sessions=19, paid_sessions=16, free_sessions=7, songs=1606, errors=3, help=19, resp_error=186, churn=0),\n",
       " Row(userId='200001', gender='M', sessions=6, paid_sessions=0, free_sessions=6, songs=114, errors=0, help=1, resp_error=18, churn=1),\n",
       " Row(userId='200002', gender='M', sessions=6, paid_sessions=3, free_sessions=4, songs=378, errors=0, help=2, resp_error=37, churn=0),\n",
       " Row(userId='200003', gender='F', sessions=14, paid_sessions=3, free_sessions=14, songs=715, errors=0, help=2, resp_error=99, churn=0),\n",
       " Row(userId='200004', gender='M', sessions=28, paid_sessions=28, free_sessions=0, songs=1567, errors=1, help=9, resp_error=193, churn=0),\n",
       " Row(userId='200005', gender='M', sessions=6, paid_sessions=5, free_sessions=2, songs=138, errors=0, help=0, resp_error=14, churn=0),\n",
       " Row(userId='200006', gender='F', sessions=21, paid_sessions=0, free_sessions=21, songs=514, errors=2, help=1, resp_error=68, churn=0),\n",
       " Row(userId='200007', gender='F', sessions=3, paid_sessions=3, free_sessions=0, songs=65, errors=1, help=2, resp_error=5, churn=0),\n",
       " Row(userId='200008', gender='F', sessions=15, paid_sessions=15, free_sessions=1, songs=1505, errors=3, help=4, resp_error=175, churn=0),\n",
       " Row(userId='200009', gender='M', sessions=15, paid_sessions=6, free_sessions=11, songs=897, errors=0, help=7, resp_error=114, churn=0),\n",
       " Row(userId='200010', gender='F', sessions=6, paid_sessions=0, free_sessions=6, songs=228, errors=1, help=1, resp_error=39, churn=0),\n",
       " Row(userId='200011', gender='M', sessions=11, paid_sessions=5, free_sessions=8, songs=620, errors=1, help=6, resp_error=92, churn=1),\n",
       " Row(userId='200012', gender='M', sessions=2, paid_sessions=0, free_sessions=2, songs=66, errors=0, help=0, resp_error=8, churn=0),\n",
       " Row(userId='200014', gender='M', sessions=10, paid_sessions=1, free_sessions=10, songs=696, errors=0, help=5, resp_error=110, churn=0),\n",
       " Row(userId='200015', gender='M', sessions=11, paid_sessions=0, free_sessions=11, songs=252, errors=1, help=1, resp_error=32, churn=1),\n",
       " Row(userId='200016', gender='F', sessions=7, paid_sessions=0, free_sessions=7, songs=201, errors=0, help=0, resp_error=28, churn=1),\n",
       " Row(userId='200017', gender='M', sessions=12, paid_sessions=4, free_sessions=9, songs=463, errors=1, help=2, resp_error=67, churn=1),\n",
       " Row(userId='200018', gender='M', sessions=9, paid_sessions=0, free_sessions=9, songs=349, errors=0, help=1, resp_error=45, churn=1),\n",
       " Row(userId='200019', gender='M', sessions=10, paid_sessions=6, free_sessions=6, songs=474, errors=0, help=3, resp_error=67, churn=0),\n",
       " Row(userId='200020', gender='M', sessions=36, paid_sessions=5, free_sessions=33, songs=1076, errors=0, help=7, resp_error=132, churn=1),\n",
       " Row(userId='200021', gender='F', sessions=17, paid_sessions=13, free_sessions=5, songs=1124, errors=1, help=4, resp_error=134, churn=1),\n",
       " Row(userId='200022', gender='M', sessions=8, paid_sessions=0, free_sessions=8, songs=332, errors=1, help=2, resp_error=44, churn=0),\n",
       " Row(userId='200023', gender='F', sessions=76, paid_sessions=25, free_sessions=56, songs=2515, errors=2, help=23, resp_error=367, churn=0),\n",
       " Row(userId='200024', gender='M', sessions=8, paid_sessions=2, free_sessions=7, songs=402, errors=1, help=4, resp_error=53, churn=1),\n",
       " Row(userId='200025', gender='M', sessions=14, paid_sessions=6, free_sessions=10, songs=736, errors=1, help=2, resp_error=115, churn=0),\n",
       " Row(userId='21', gender='M', sessions=4, paid_sessions=4, free_sessions=0, songs=476, errors=1, help=4, resp_error=45, churn=0),\n",
       " Row(userId='22', gender='F', sessions=2, paid_sessions=0, free_sessions=2, songs=28, errors=0, help=0, resp_error=6, churn=0),\n",
       " Row(userId='23', gender='F', sessions=4, paid_sessions=1, free_sessions=4, songs=624, errors=0, help=4, resp_error=55, churn=0),\n",
       " Row(userId='24', gender='M', sessions=15, paid_sessions=3, free_sessions=14, songs=460, errors=0, help=5, resp_error=52, churn=0),\n",
       " Row(userId='25', gender='F', sessions=15, paid_sessions=11, free_sessions=6, songs=1642, errors=0, help=9, resp_error=187, churn=0),\n",
       " Row(userId='26', gender='M', sessions=8, paid_sessions=1, free_sessions=8, songs=251, errors=0, help=4, resp_error=26, churn=0),\n",
       " Row(userId='27', gender='M', sessions=9, paid_sessions=0, free_sessions=9, songs=217, errors=0, help=1, resp_error=25, churn=0),\n",
       " Row(userId='28', gender='F', sessions=21, paid_sessions=6, free_sessions=16, songs=1323, errors=1, help=7, resp_error=148, churn=1),\n",
       " Row(userId='29', gender='M', sessions=34, paid_sessions=27, free_sessions=8, songs=2562, errors=0, help=28, resp_error=270, churn=1),\n",
       " Row(userId='3', gender='M', sessions=4, paid_sessions=4, free_sessions=0, songs=211, errors=0, help=1, resp_error=22, churn=1),\n",
       " Row(userId='30', gender='M', sessions=32, paid_sessions=5, free_sessions=29, songs=1272, errors=1, help=5, resp_error=128, churn=0),\n",
       " Row(userId='300001', gender='F', sessions=19, paid_sessions=19, free_sessions=1, songs=1567, errors=3, help=11, resp_error=225, churn=1),\n",
       " Row(userId='300002', gender='F', sessions=18, paid_sessions=18, free_sessions=3, songs=1420, errors=1, help=16, resp_error=196, churn=0),\n",
       " Row(userId='300003', gender='M', sessions=1, paid_sessions=0, free_sessions=1, songs=27, errors=0, help=1, resp_error=3, churn=0),\n",
       " Row(userId='300004', gender='F', sessions=3, paid_sessions=3, free_sessions=2, songs=198, errors=0, help=3, resp_error=27, churn=0),\n",
       " Row(userId='300005', gender='F', sessions=6, paid_sessions=6, free_sessions=1, songs=305, errors=1, help=2, resp_error=52, churn=0),\n",
       " Row(userId='300006', gender='M', sessions=5, paid_sessions=1, free_sessions=5, songs=273, errors=0, help=3, resp_error=51, churn=0),\n",
       " Row(userId='300007', gender='M', sessions=1, paid_sessions=1, free_sessions=0, songs=111, errors=0, help=1, resp_error=18, churn=1),\n",
       " Row(userId='300008', gender='F', sessions=18, paid_sessions=18, free_sessions=0, songs=1255, errors=3, help=9, resp_error=170, churn=0),\n",
       " Row(userId='300009', gender='F', sessions=18, paid_sessions=18, free_sessions=1, songs=1302, errors=2, help=7, resp_error=186, churn=0),\n",
       " Row(userId='300010', gender='M', sessions=7, paid_sessions=0, free_sessions=7, songs=256, errors=0, help=1, resp_error=36, churn=0),\n",
       " Row(userId='300011', gender='F', sessions=76, paid_sessions=69, free_sessions=10, songs=3704, errors=2, help=30, resp_error=633, churn=0),\n",
       " Row(userId='300012', gender='M', sessions=7, paid_sessions=6, free_sessions=2, songs=603, errors=0, help=7, resp_error=81, churn=0),\n",
       " Row(userId='300013', gender='M', sessions=6, paid_sessions=6, free_sessions=0, songs=320, errors=0, help=2, resp_error=50, churn=0),\n",
       " Row(userId='300014', gender='M', sessions=7, paid_sessions=7, free_sessions=1, songs=266, errors=1, help=4, resp_error=44, churn=0),\n",
       " Row(userId='300015', gender='M', sessions=33, paid_sessions=33, free_sessions=3, songs=2169, errors=4, help=12, resp_error=298, churn=0),\n",
       " Row(userId='300016', gender='M', sessions=13, paid_sessions=13, free_sessions=1, songs=542, errors=1, help=0, resp_error=84, churn=0),\n",
       " Row(userId='300017', gender='F', sessions=63, paid_sessions=63, free_sessions=0, songs=3013, errors=5, help=27, resp_error=443, churn=0),\n",
       " Row(userId='300018', gender='M', sessions=28, paid_sessions=27, free_sessions=2, songs=1479, errors=2, help=16, resp_error=220, churn=0),\n",
       " Row(userId='300019', gender='M', sessions=9, paid_sessions=9, free_sessions=1, songs=758, errors=0, help=7, resp_error=117, churn=0),\n",
       " Row(userId='300020', gender='F', sessions=3, paid_sessions=3, free_sessions=0, songs=238, errors=2, help=2, resp_error=32, churn=0),\n",
       " Row(userId='300021', gender='F', sessions=58, paid_sessions=58, free_sessions=1, songs=3195, errors=5, help=16, resp_error=518, churn=0),\n",
       " Row(userId='300022', gender='M', sessions=11, paid_sessions=11, free_sessions=0, songs=353, errors=0, help=3, resp_error=47, churn=0),\n",
       " Row(userId='300023', gender='F', sessions=27, paid_sessions=27, free_sessions=2, songs=1603, errors=3, help=10, resp_error=241, churn=0),\n",
       " Row(userId='300024', gender='F', sessions=1, paid_sessions=1, free_sessions=0, songs=87, errors=0, help=0, resp_error=9, churn=0),\n",
       " Row(userId='300025', gender='M', sessions=16, paid_sessions=15, free_sessions=2, songs=1182, errors=2, help=6, resp_error=192, churn=0),\n",
       " Row(userId='32', gender='M', sessions=3, paid_sessions=1, free_sessions=3, songs=80, errors=0, help=0, resp_error=11, churn=1),\n",
       " Row(userId='33', gender='M', sessions=12, paid_sessions=12, free_sessions=0, songs=1147, errors=1, help=7, resp_error=143, churn=0),\n",
       " Row(userId='34', gender='M', sessions=3, paid_sessions=0, free_sessions=3, songs=53, errors=0, help=0, resp_error=5, churn=0),\n",
       " Row(userId='35', gender='F', sessions=38, paid_sessions=11, free_sessions=31, songs=1440, errors=3, help=9, resp_error=149, churn=0),\n",
       " Row(userId='36', gender='F', sessions=20, paid_sessions=5, free_sessions=16, songs=1055, errors=1, help=7, resp_error=119, churn=0),\n",
       " Row(userId='37', gender='M', sessions=15, paid_sessions=12, free_sessions=4, songs=1275, errors=3, help=5, resp_error=139, churn=0),\n",
       " Row(userId='38', gender='M', sessions=16, paid_sessions=12, free_sessions=6, songs=1192, errors=3, help=12, resp_error=127, churn=0),\n",
       " Row(userId='39', gender='F', sessions=107, paid_sessions=51, free_sessions=62, songs=5946, errors=7, help=46, resp_error=723, churn=0),\n",
       " Row(userId='4', gender='M', sessions=22, paid_sessions=14, free_sessions=9, songs=1799, errors=4, help=12, resp_error=198, churn=0),\n",
       " Row(userId='40', gender='F', sessions=17, paid_sessions=10, free_sessions=8, songs=1004, errors=0, help=9, resp_error=116, churn=0),\n",
       " Row(userId='41', gender='F', sessions=12, paid_sessions=12, free_sessions=0, songs=1699, errors=1, help=19, resp_error=146, churn=0),\n",
       " Row(userId='42', gender='F', sessions=47, paid_sessions=42, free_sessions=6, songs=2961, errors=7, help=20, resp_error=302, churn=0),\n",
       " Row(userId='43', gender='F', sessions=4, paid_sessions=0, free_sessions=4, songs=171, errors=0, help=0, resp_error=21, churn=0),\n",
       " Row(userId='44', gender='F', sessions=3, paid_sessions=3, free_sessions=1, songs=410, errors=0, help=6, resp_error=43, churn=0),\n",
       " Row(userId='45', gender='F', sessions=16, paid_sessions=11, free_sessions=6, songs=1350, errors=0, help=5, resp_error=126, churn=0),\n",
       " Row(userId='46', gender='F', sessions=10, paid_sessions=8, free_sessions=3, songs=847, errors=0, help=3, resp_error=89, churn=0),\n",
       " Row(userId='47', gender='M', sessions=9, paid_sessions=0, free_sessions=9, songs=200, errors=0, help=1, resp_error=16, churn=0),\n",
       " Row(userId='49', gender='M', sessions=10, paid_sessions=8, free_sessions=4, songs=813, errors=4, help=8, resp_error=95, churn=0),\n",
       " Row(userId='5', gender='M', sessions=6, paid_sessions=0, free_sessions=6, songs=159, errors=0, help=2, resp_error=19, churn=0),\n",
       " Row(userId='50', gender='F', sessions=8, paid_sessions=2, free_sessions=7, songs=476, errors=2, help=7, resp_error=51, churn=0),\n",
       " Row(userId='51', gender='M', sessions=10, paid_sessions=10, free_sessions=0, songs=1854, errors=1, help=12, resp_error=176, churn=1),\n",
       " Row(userId='52', gender='F', sessions=15, paid_sessions=5, free_sessions=11, songs=996, errors=0, help=7, resp_error=126, churn=0),\n",
       " Row(userId='53', gender='M', sessions=22, paid_sessions=11, free_sessions=12, songs=1576, errors=2, help=11, resp_error=136, churn=1),\n",
       " Row(userId='54', gender='F', sessions=37, paid_sessions=26, free_sessions=13, songs=2414, errors=1, help=17, resp_error=268, churn=1),\n",
       " Row(userId='55', gender='M', sessions=11, paid_sessions=2, free_sessions=10, songs=369, errors=1, help=4, resp_error=38, churn=0),\n",
       " Row(userId='56', gender='M', sessions=21, paid_sessions=10, free_sessions=12, songs=689, errors=1, help=9, resp_error=95, churn=0),\n",
       " Row(userId='57', gender='M', sessions=2, paid_sessions=0, free_sessions=2, songs=90, errors=0, help=1, resp_error=8, churn=0),\n",
       " Row(userId='58', gender='M', sessions=12, paid_sessions=11, free_sessions=2, songs=1503, errors=0, help=13, resp_error=158, churn=1),\n",
       " Row(userId='59', gender='M', sessions=7, paid_sessions=4, free_sessions=6, songs=680, errors=4, help=3, resp_error=71, churn=0),\n",
       " Row(userId='6', gender='M', sessions=24, paid_sessions=20, free_sessions=5, songs=2678, errors=4, help=24, resp_error=292, churn=0),\n",
       " Row(userId='60', gender='M', sessions=18, paid_sessions=18, free_sessions=1, songs=1477, errors=2, help=7, resp_error=141, churn=0),\n",
       " Row(userId='61', gender='M', sessions=19, paid_sessions=8, free_sessions=14, songs=1440, errors=2, help=10, resp_error=144, churn=0),\n",
       " Row(userId='62', gender='M', sessions=8, paid_sessions=8, free_sessions=0, songs=1422, errors=4, help=10, resp_error=158, churn=0),\n",
       " Row(userId='63', gender='F', sessions=1, paid_sessions=0, free_sessions=1, songs=86, errors=0, help=0, resp_error=10, churn=0),\n",
       " Row(userId='64', gender='M', sessions=3, paid_sessions=0, free_sessions=3, songs=46, errors=0, help=1, resp_error=12, churn=0),\n",
       " Row(userId='65', gender='M', sessions=23, paid_sessions=18, free_sessions=6, songs=1837, errors=0, help=13, resp_error=210, churn=0),\n",
       " Row(userId='66', gender='F', sessions=21, paid_sessions=11, free_sessions=11, songs=980, errors=0, help=3, resp_error=106, churn=0),\n",
       " Row(userId='67', gender='M', sessions=13, paid_sessions=9, free_sessions=5, songs=1012, errors=0, help=8, resp_error=96, churn=0),\n",
       " Row(userId='68', gender='F', sessions=2, paid_sessions=0, free_sessions=2, songs=29, errors=0, help=0, resp_error=11, churn=0),\n",
       " Row(userId='69', gender='F', sessions=9, paid_sessions=8, free_sessions=2, songs=1036, errors=4, help=7, resp_error=109, churn=0),\n",
       " Row(userId='7', gender='M', sessions=7, paid_sessions=0, free_sessions=7, songs=148, errors=1, help=1, resp_error=14, churn=0),\n",
       " Row(userId='70', gender='M', sessions=18, paid_sessions=16, free_sessions=3, songs=1335, errors=2, help=9, resp_error=153, churn=1),\n",
       " Row(userId='71', gender='M', sessions=4, paid_sessions=3, free_sessions=2, songs=258, errors=1, help=1, resp_error=34, churn=0),\n",
       " Row(userId='72', gender='F', sessions=1, paid_sessions=0, free_sessions=1, songs=85, errors=1, help=0, resp_error=12, churn=0),\n",
       " Row(userId='73', gender='F', sessions=6, paid_sessions=6, free_sessions=1, songs=363, errors=1, help=4, resp_error=43, churn=1),\n",
       " Row(userId='74', gender='F', sessions=23, paid_sessions=14, free_sessions=12, songs=2071, errors=1, help=13, resp_error=233, churn=0),\n",
       " Row(userId='75', gender='F', sessions=8, paid_sessions=8, free_sessions=0, songs=750, errors=1, help=2, resp_error=79, churn=0),\n",
       " Row(userId='76', gender='M', sessions=6, paid_sessions=0, free_sessions=6, songs=208, errors=1, help=2, resp_error=25, churn=0),\n",
       " Row(userId='77', gender='F', sessions=8, paid_sessions=7, free_sessions=3, songs=971, errors=0, help=5, resp_error=75, churn=0),\n",
       " Row(userId='78', gender='F', sessions=9, paid_sessions=0, free_sessions=9, songs=249, errors=0, help=1, resp_error=25, churn=0),\n",
       " Row(userId='79', gender='M', sessions=5, paid_sessions=2, free_sessions=4, songs=239, errors=0, help=0, resp_error=24, churn=0),\n",
       " Row(userId='8', gender='F', sessions=7, paid_sessions=0, free_sessions=7, songs=244, errors=2, help=0, resp_error=34, churn=0),\n",
       " Row(userId='80', gender='F', sessions=12, paid_sessions=0, free_sessions=12, songs=353, errors=0, help=4, resp_error=33, churn=0),\n",
       " Row(userId='81', gender='M', sessions=19, paid_sessions=18, free_sessions=3, songs=1749, errors=1, help=12, resp_error=162, churn=0),\n",
       " Row(userId='82', gender='F', sessions=17, paid_sessions=8, free_sessions=10, songs=1534, errors=2, help=9, resp_error=158, churn=0),\n",
       " Row(userId='83', gender='M', sessions=28, paid_sessions=18, free_sessions=11, songs=1132, errors=3, help=10, resp_error=116, churn=0),\n",
       " Row(userId='84', gender='F', sessions=3, paid_sessions=0, free_sessions=3, songs=71, errors=0, help=1, resp_error=7, churn=0),\n",
       " Row(userId='85', gender='M', sessions=41, paid_sessions=25, free_sessions=21, songs=3069, errors=2, help=24, resp_error=352, churn=0),\n",
       " Row(userId='86', gender='M', sessions=10, paid_sessions=5, free_sessions=6, songs=625, errors=1, help=8, resp_error=76, churn=0),\n",
       " Row(userId='87', gender='M', sessions=25, paid_sessions=2, free_sessions=24, songs=725, errors=0, help=8, resp_error=85, churn=1),\n",
       " Row(userId='88', gender='F', sessions=26, paid_sessions=14, free_sessions=13, songs=1808, errors=1, help=14, resp_error=200, churn=0),\n",
       " Row(userId='89', gender='M', sessions=5, paid_sessions=4, free_sessions=2, songs=626, errors=0, help=5, resp_error=61, churn=0),\n",
       " Row(userId='9', gender='M', sessions=31, paid_sessions=28, free_sessions=6, songs=2300, errors=3, help=15, resp_error=231, churn=0),\n",
       " Row(userId='90', gender='M', sessions=5, paid_sessions=0, free_sessions=5, songs=37, errors=0, help=2, resp_error=1, churn=0),\n",
       " Row(userId='91', gender='M', sessions=9, paid_sessions=7, free_sessions=3, songs=2218, errors=3, help=9, resp_error=226, churn=0),\n",
       " Row(userId='92', gender='F', sessions=86, paid_sessions=60, free_sessions=28, songs=4622, errors=3, help=40, resp_error=567, churn=0),\n",
       " Row(userId='93', gender='M', sessions=12, paid_sessions=3, free_sessions=10, songs=601, errors=0, help=7, resp_error=64, churn=0),\n",
       " Row(userId='94', gender='F', sessions=6, paid_sessions=0, free_sessions=6, songs=143, errors=0, help=0, resp_error=10, churn=0),\n",
       " Row(userId='95', gender='F', sessions=33, paid_sessions=10, free_sessions=24, songs=1502, errors=5, help=18, resp_error=182, churn=0),\n",
       " Row(userId='96', gender='F', sessions=19, paid_sessions=15, free_sessions=6, songs=1624, errors=2, help=9, resp_error=185, churn=0),\n",
       " Row(userId='97', gender='F', sessions=30, paid_sessions=17, free_sessions=14, songs=1738, errors=1, help=17, resp_error=190, churn=0),\n",
       " Row(userId='98', gender='M', sessions=28, paid_sessions=15, free_sessions=14, songs=2095, errors=3, help=15, resp_error=229, churn=0),\n",
       " Row(userId='99', gender='F', sessions=11, paid_sessions=7, free_sessions=5, songs=485, errors=0, help=1, resp_error=54, churn=0)]"
      ]
     },
     "execution_count": 172,
     "metadata": {},
     "output_type": "execute_result"
    }
   ],
   "source": [
    "df_clean.groupBy(['userId','gender']).agg(countDistinct('sessionId').alias('sessions'), \\\n",
    "                               countDistinct(when(col('level')=='paid',col('sessionId'))).alias('paid_sessions'),\\\n",
    "                               countDistinct(when(col('level')=='free',col('sessionId'))).alias('free_sessions'),\\\n",
    "                               countDistinct('song').alias('songs'), \\\n",
    "                               count(when(col('page') =='Error', 1)).alias('errors'), \\\n",
    "                               count(when(col('page') =='Help', 1)).alias('help'), \\\n",
    "                               count(when((col('status') == 404)|(col('status') == 307), 1)).alias('resp_error'), \\\n",
    "                               count(when(col(\"churn\")>0,True)).alias('churn'))\\\n",
    "                           .sort('userId').collect()"
   ]
  },
  {
   "cell_type": "code",
   "execution_count": 173,
   "metadata": {},
   "outputs": [],
   "source": [
    "agg = df_clean.groupBy(['userId','gender']).agg(countDistinct('sessionId').alias('sessions'), \\\n",
    "                               countDistinct(when(col('level')=='paid',col('sessionId'))).alias('paid_sessions'),\\\n",
    "                               countDistinct(when(col('level')=='free',col('sessionId'))).alias('free_sessions'),\\\n",
    "                               countDistinct('song').alias('songs'), \\\n",
    "                               count(when(col('page') =='Error', 1)).alias('errors'), \\\n",
    "                               count(when(col('page') =='Help', 1)).alias('help'), \\\n",
    "                               count(when((col('status') == 404)|(col('status') == 307), 1)).alias('resp_error'),\\\n",
    "                               count(when(col(\"churn\")>0,True)).alias('churn'))\\\n",
    "                           .sort('userId').collect()\n",
    "df_agg = spark.createDataFrame(agg)"
   ]
  },
  {
   "cell_type": "code",
   "execution_count": 174,
   "metadata": {},
   "outputs": [],
   "source": [
    "pd_df = df_agg.toPandas()\n",
    "pd_df = pd_df.set_index('userId')"
   ]
  },
  {
   "cell_type": "code",
   "execution_count": 175,
   "metadata": {},
   "outputs": [
    {
     "data": {
      "text/plain": [
       "<matplotlib.axes._subplots.AxesSubplot at 0x7f1f4c05a6d8>"
      ]
     },
     "execution_count": 175,
     "metadata": {},
     "output_type": "execute_result"
    },
    {
     "data": {
      "image/png": "[encoded data removed]",
      "text/plain": [
       "<matplotlib.figure.Figure at 0x7f1f4c0ce4e0>"
      ]
     },
     "metadata": {
      "needs_background": "light"
     },
     "output_type": "display_data"
    }
   ],
   "source": [
    "sns.countplot(x='gender', hue=\"churn\", data=pd_df)"
   ]
  },
  {
   "cell_type": "code",
   "execution_count": 176,
   "metadata": {},
   "outputs": [
    {
     "data": {
      "text/plain": [
       "<matplotlib.axes._subplots.AxesSubplot at 0x7f1f44655748>"
      ]
     },
     "execution_count": 176,
     "metadata": {},
     "output_type": "execute_result"
    },
    {
     "data": {
      "image/png": "[encoded data removed]",
      "text/plain": [
       "<matplotlib.figure.Figure at 0x7f1f7c3d5a20>"
      ]
     },
     "metadata": {
      "needs_background": "light"
     },
     "output_type": "display_data"
    }
   ],
   "source": [
    "sns.boxplot(x='churn',y='songs',data=pd_df)"
   ]
  },
  {
   "cell_type": "code",
   "execution_count": 177,
   "metadata": {},
   "outputs": [],
   "source": [
    "pd_df_canceled = df_canceled.toPandas()\n",
    "x = pd_df_canceled['userId']\n",
    "free_sessions = [ pd_df.loc[id,['free_sessions'][0]] for id in x]\n",
    "paid_sessions = [ pd_df.loc[id,['paid_sessions'][0]] for id in x]\n"
   ]
  },
  {
   "cell_type": "code",
   "execution_count": 178,
   "metadata": {},
   "outputs": [
    {
     "data": {
      "image/png": "[encoded data removed]",
      "text/plain": [
       "<matplotlib.figure.Figure at 0x7f1f4ca44e48>"
      ]
     },
     "metadata": {
      "needs_background": "light"
     },
     "output_type": "display_data"
    }
   ],
   "source": [
    "plt.figure(figsize=[20,10])\n",
    "plt.scatter(x,free_sessions, c='g')\n",
    "plt.scatter(x,paid_sessions, c='r')\n",
    "plt.xticks(rotation=45)\n",
    "plt.legend(['free_seesions','paid_sessions'])\n",
    "plt.show()"
   ]
  },
  {
   "cell_type": "code",
   "execution_count": 179,
   "metadata": {},
   "outputs": [
    {
     "data": {
      "text/plain": [
       "<matplotlib.axes._subplots.AxesSubplot at 0x7f1f4446bb70>"
      ]
     },
     "execution_count": 179,
     "metadata": {},
     "output_type": "execute_result"
    },
    {
     "data": {
      "image/png": "[encoded data removed]",
      "text/plain": [
       "<matplotlib.figure.Figure at 0x7f1f4ca516a0>"
      ]
     },
     "metadata": {
      "needs_background": "light"
     },
     "output_type": "display_data"
    }
   ],
   "source": [
    "sns.boxplot(x='churn',y='errors',data=pd_df)"
   ]
  },
  {
   "cell_type": "code",
   "execution_count": 180,
   "metadata": {},
   "outputs": [
    {
     "data": {
      "text/plain": [
       "<matplotlib.axes._subplots.AxesSubplot at 0x7f1f443f0b38>"
      ]
     },
     "execution_count": 180,
     "metadata": {},
     "output_type": "execute_result"
    },
    {
     "data": {
      "image/png": "[encoded data removed]",
      "text/plain": [
       "<matplotlib.figure.Figure at 0x7f1f44483a58>"
      ]
     },
     "metadata": {
      "needs_background": "light"
     },
     "output_type": "display_data"
    }
   ],
   "source": [
    "sns.boxplot(x='churn',y='help',data=pd_df)"
   ]
  },
  {
   "cell_type": "code",
   "execution_count": 181,
   "metadata": {},
   "outputs": [
    {
     "data": {
      "text/plain": [
       "<matplotlib.axes._subplots.AxesSubplot at 0x7f1f4436bd30>"
      ]
     },
     "execution_count": 181,
     "metadata": {},
     "output_type": "execute_result"
    },
    {
     "data": {
      "image/png": "[encoded data removed]",
      "text/plain": [
       "<matplotlib.figure.Figure at 0x7f1f4c0ab198>"
      ]
     },
     "metadata": {
      "needs_background": "light"
     },
     "output_type": "display_data"
    }
   ],
   "source": [
    "sns.boxplot(x='churn',y='resp_error',data=pd_df)"
   ]
  },
  {
   "cell_type": "markdown",
   "metadata": {},
   "source": [
    "# Feature Engineering\n",
    "Once you've familiarized yourself with the data, build out the features you find promising to train your model on. To work with the full dataset, you can follow the following steps.\n",
    "- Write a script to extract the necessary features from the smaller subset of data\n",
    "- Ensure that your script is scalable, using the best practices discussed in Lesson 3\n",
    "- Try your script on the full data set, debugging your script if necessary\n",
    "\n",
    "If you are working in the classroom workspace, you can just extract features based on the small subset of data contained here. Be sure to transfer over this work to the larger dataset when you work on your Spark cluster."
   ]
  },
  {
   "cell_type": "markdown",
   "metadata": {},
   "source": [
    "To be able to work with the dataset we need to create a new dataframe with one row for each user, hence some changes needs to be conducted on the original features as follows:<br>\n",
    "    - artist: is replace with number of artists\n",
    "    - auth: dropped since the information is captured by the number of paid and free sessions\n",
    "    - firstName: This column can be dropped since we have userId to distinguish each user\n",
    "    - gender: replaced with two columns Female and Male with values 0 or 1 \n",
    "    - itemInSession: is replaced with the avg(itemInSession) \n",
    "    - lastName: This column can be dropped since we have userId to distinguish each user\n",
    "    - length: This column is replaced with the avg(length)\n",
    "    - level: replaced with two columns free_sessions and paid_sessions  \n",
    "    - location: can extract the state part of the location and then add a column for each state\n",
    "    - method: is dropped\n",
    "    - page: replaced with columns for each page type, in each column the number of times the page was browsed \n",
    "    - registration: replaced with col activeDuration; the number of days from registration until the last event\n",
    "    - sessionId: replaced with two columns free_sessions and paid_sessions\n",
    "    - song: replace with number of songs\n",
    "    - status: replace with three columns:307,404 and 200 and each column contains a number represents the number of times the error appeared\n",
    "    - ts: replaced with col activeDuration; the number of days from registration until the last event\n",
    "    - userAgent: is dropped\n",
    "    - userId: kept as is\n",
    "After that we will check for null values and remove any column that a null values<br>\n",
    "Note: from the page columns I didn't add page_NextPage column since its the same as number of songs, and I didn't add page_CancellationConfirmation since it is the same as the ChurnColumn"
   ]
  },
  {
   "cell_type": "code",
   "execution_count": 182,
   "metadata": {},
   "outputs": [
    {
     "data": {
      "text/plain": [
       "[Row(userId='10', registration=1538159495000, count=795),\n",
       " Row(userId='100', registration=1537982255000, count=3214),\n",
       " Row(userId='100001', registration=1534627466000, count=187),\n",
       " Row(userId='100002', registration=1529934689000, count=218),\n",
       " Row(userId='100003', registration=1537309344000, count=78),\n",
       " Row(userId='100004', registration=1528560242000, count=1245),\n",
       " Row(userId='100005', registration=1532610926000, count=216),\n",
       " Row(userId='100006', registration=1537964483000, count=44),\n",
       " Row(userId='100007', registration=1533522419000, count=520),\n",
       " Row(userId='100008', registration=1537440271000, count=940),\n",
       " Row(userId='100009', registration=1537376437000, count=671),\n",
       " Row(userId='100010', registration=1538016340000, count=381),\n",
       " Row(userId='100011', registration=1537970819000, count=23),\n",
       " Row(userId='100012', registration=1537381154000, count=600),\n",
       " Row(userId='100013', registration=1537367773000, count=1392),\n",
       " Row(userId='100014', registration=1535389443000, count=310),\n",
       " Row(userId='100015', registration=1537208989000, count=1050),\n",
       " Row(userId='100016', registration=1536854322000, count=638),\n",
       " Row(userId='100017', registration=1533247234000, count=75),\n",
       " Row(userId='100018', registration=1533812833000, count=1288),\n",
       " Row(userId='100019', registration=1536257455000, count=89),\n",
       " Row(userId='100021', registration=1537550344000, count=319),\n",
       " Row(userId='100022', registration=1537898335000, count=964),\n",
       " Row(userId='100023', registration=1536679150000, count=494),\n",
       " Row(userId='100024', registration=1536343087000, count=36),\n",
       " Row(userId='100025', registration=1532625569000, count=623),\n",
       " Row(userId='101', registration=1535066380000, count=2149),\n",
       " Row(userId='102', registration=1537915702000, count=202),\n",
       " Row(userId='103', registration=1537699856000, count=1310),\n",
       " Row(userId='104', registration=1532498424000, count=2132),\n",
       " Row(userId='105', registration=1536817381000, count=918),\n",
       " Row(userId='106', registration=1537679535000, count=1010),\n",
       " Row(userId='107', registration=1536303841000, count=315),\n",
       " Row(userId='108', registration=1538215963000, count=764),\n",
       " Row(userId='109', registration=1534768517000, count=861),\n",
       " Row(userId='11', registration=1532554781000, count=848),\n",
       " Row(userId='110', registration=1537665002000, count=235),\n",
       " Row(userId='111', registration=1536372490000, count=830),\n",
       " Row(userId='112', registration=1536032681000, count=292),\n",
       " Row(userId='113', registration=1532920994000, count=1895),\n",
       " Row(userId='114', registration=1536831228000, count=1547),\n",
       " Row(userId='115', registration=1536948181000, count=2076),\n",
       " Row(userId='116', registration=1534613931000, count=79),\n",
       " Row(userId='117', registration=1537142824000, count=445),\n",
       " Row(userId='118', registration=1537893493000, count=2868),\n",
       " Row(userId='119', registration=1526838391000, count=223),\n",
       " Row(userId='12', registration=1533885783000, count=1064),\n",
       " Row(userId='120', registration=1532472246000, count=1842),\n",
       " Row(userId='121', registration=1528403713000, count=916),\n",
       " Row(userId='122', registration=1535498705000, count=62),\n",
       " Row(userId='123', registration=1534370883000, count=196),\n",
       " Row(userId='124', registration=1532224335000, count=4825),\n",
       " Row(userId='125', registration=1533157139000, count=11),\n",
       " Row(userId='126', registration=1538227408000, count=3102),\n",
       " Row(userId='127', registration=1536795126000, count=2125),\n",
       " Row(userId='128', registration=1535269914000, count=2067),\n",
       " Row(userId='129', registration=1538289776000, count=412),\n",
       " Row(userId='13', registration=1533192032000, count=1654),\n",
       " Row(userId='131', registration=1533102330000, count=1863),\n",
       " Row(userId='132', registration=1537054553000, count=2304),\n",
       " Row(userId='133', registration=1536126401000, count=44),\n",
       " Row(userId='134', registration=1537618437000, count=52),\n",
       " Row(userId='135', registration=1532433959000, count=6),\n",
       " Row(userId='136', registration=1537034286000, count=2567),\n",
       " Row(userId='137', registration=1532450666000, count=209),\n",
       " Row(userId='138', registration=1537865819000, count=2469),\n",
       " Row(userId='139', registration=1535271638000, count=457),\n",
       " Row(userId='14', registration=1531910878000, count=1432),\n",
       " Row(userId='140', registration=1536642109000, count=6880),\n",
       " Row(userId='141', registration=1535903878000, count=1102),\n",
       " Row(userId='142', registration=1538120859000, count=2240),\n",
       " Row(userId='143', registration=1534255113000, count=149),\n",
       " Row(userId='144', registration=1535047210000, count=125),\n",
       " Row(userId='145', registration=1534779204000, count=1347),\n",
       " Row(userId='146', registration=1536138073000, count=837),\n",
       " Row(userId='147', registration=1537522781000, count=672),\n",
       " Row(userId='148', registration=1537531076000, count=518),\n",
       " Row(userId='149', registration=1536980520000, count=240),\n",
       " Row(userId='15', registration=1538239045000, count=2278),\n",
       " Row(userId='150', registration=1532899177000, count=234),\n",
       " Row(userId='151', registration=1537862870000, count=163),\n",
       " Row(userId='152', registration=1540940608000, count=1682),\n",
       " Row(userId='153', registration=1541223737000, count=1131),\n",
       " Row(userId='154', registration=1541268021000, count=118),\n",
       " Row(userId='155', registration=1541370470000, count=1002),\n",
       " Row(userId='156', registration=1543247354000, count=6),\n",
       " Row(userId='16', registration=1536597540000, count=819),\n",
       " Row(userId='17', registration=1538333829000, count=1102),\n",
       " Row(userId='18', registration=1535623466000, count=513),\n",
       " Row(userId='19', registration=1537306307000, count=259),\n",
       " Row(userId='2', registration=1536799770000, count=899),\n",
       " Row(userId='20', registration=1536844410000, count=2195),\n",
       " Row(userId='200001', registration=1538255180000, count=158),\n",
       " Row(userId='200002', registration=1536269906000, count=474),\n",
       " Row(userId='200003', registration=1530333492000, count=977),\n",
       " Row(userId='200004', registration=1537672236000, count=2130),\n",
       " Row(userId='200005', registration=1533532298000, count=174),\n",
       " Row(userId='200006', registration=1536963671000, count=740),\n",
       " Row(userId='200007', registration=1537971741000, count=76),\n",
       " Row(userId='200008', registration=1533670697000, count=2012),\n",
       " Row(userId='200009', registration=1538313468000, count=1198),\n",
       " Row(userId='200010', registration=1537764007000, count=317),\n",
       " Row(userId='200011', registration=1531679695000, count=848),\n",
       " Row(userId='200012', registration=1537939256000, count=84),\n",
       " Row(userId='200014', registration=1532364714000, count=982),\n",
       " Row(userId='200015', registration=1534175704000, count=349),\n",
       " Row(userId='200016', registration=1537537765000, count=268),\n",
       " Row(userId='200017', registration=1537043743000, count=620),\n",
       " Row(userId='200018', registration=1536956945000, count=478),\n",
       " Row(userId='200019', registration=1537638755000, count=639),\n",
       " Row(userId='200020', registration=1535907116000, count=1498),\n",
       " Row(userId='200021', registration=1535032914000, count=1502),\n",
       " Row(userId='200022', registration=1533758535000, count=456),\n",
       " Row(userId='200023', registration=1537812949000, count=3769),\n",
       " Row(userId='200024', registration=1537897424000, count=552),\n",
       " Row(userId='200025', registration=1532696273000, count=1026),\n",
       " Row(userId='21', registration=1536855067000, count=589),\n",
       " Row(userId='22', registration=1537681013000, count=40),\n",
       " Row(userId='23', registration=1531281160000, count=782),\n",
       " Row(userId='24', registration=1536954914000, count=630),\n",
       " Row(userId='25', registration=1536287099000, count=2279),\n",
       " Row(userId='26', registration=1536816590000, count=337),\n",
       " Row(userId='27', registration=1534245996000, count=291),\n",
       " Row(userId='28', registration=1537634865000, count=1781),\n",
       " Row(userId='29', registration=1536988041000, count=3603),\n",
       " Row(userId='3', registration=1533886191000, count=254),\n",
       " Row(userId='30', registration=1538173362000, count=1775),\n",
       " Row(userId='300001', registration=1526739206000, count=2168),\n",
       " Row(userId='300002', registration=1532589384000, count=1961),\n",
       " Row(userId='300003', registration=1530789251000, count=35),\n",
       " Row(userId='300004', registration=1534513445000, count=262),\n",
       " Row(userId='300005', registration=1528772084000, count=394),\n",
       " Row(userId='300006', registration=1535361448000, count=379),\n",
       " Row(userId='300007', registration=1537707098000, count=143),\n",
       " Row(userId='300008', registration=1535660231000, count=1672),\n",
       " Row(userId='300009', registration=1534859694000, count=1721),\n",
       " Row(userId='300010', registration=1536850071000, count=351),\n",
       " Row(userId='300011', registration=1538336771000, count=5732),\n",
       " Row(userId='300012', registration=1530306321000, count=786),\n",
       " Row(userId='300013', registration=1535400650000, count=411),\n",
       " Row(userId='300014', registration=1533629444000, count=361),\n",
       " Row(userId='300015', registration=1528780738000, count=3051),\n",
       " Row(userId='300016', registration=1534622171000, count=735),\n",
       " Row(userId='300017', registration=1537082511000, count=4428),\n",
       " Row(userId='300018', registration=1535591420000, count=2046),\n",
       " Row(userId='300019', registration=1536158069000, count=976),\n",
       " Row(userId='300020', registration=1537920589000, count=296),\n",
       " Row(userId='300021', registration=1537611935000, count=4659),\n",
       " Row(userId='300022', registration=1534461078000, count=446),\n",
       " Row(userId='300023', registration=1530514394000, count=2210),\n",
       " Row(userId='300024', registration=1536589088000, count=102),\n",
       " Row(userId='300025', registration=1536935950000, count=1603),\n",
       " Row(userId='32', registration=1537167593000, count=108),\n",
       " Row(userId='33', registration=1529252604000, count=1529),\n",
       " Row(userId='34', registration=1536659447000, count=73),\n",
       " Row(userId='35', registration=1537053412000, count=2005),\n",
       " Row(userId='36', registration=1533908361000, count=1399),\n",
       " Row(userId='37', registration=1535268719000, count=1682),\n",
       " Row(userId='38', registration=1537120757000, count=1570),\n",
       " Row(userId='39', registration=1529027541000, count=9632),\n",
       " Row(userId='4', registration=1538169823000, count=2442),\n",
       " Row(userId='40', registration=1535525247000, count=1322),\n",
       " Row(userId='41', registration=1533438580000, count=2220),\n",
       " Row(userId='42', registration=1537811988000, count=4257),\n",
       " Row(userId='43', registration=1536563533000, count=240),\n",
       " Row(userId='44', registration=1537779419000, count=512),\n",
       " Row(userId='45', registration=1536398117000, count=1776),\n",
       " Row(userId='46', registration=1537767796000, count=1120),\n",
       " Row(userId='47', registration=1531769420000, count=251),\n",
       " Row(userId='49', registration=1534318843000, count=1091),\n",
       " Row(userId='5', registration=1537456136000, count=218),\n",
       " Row(userId='50', registration=1537057938000, count=651),\n",
       " Row(userId='51', registration=1538080987000, count=2464),\n",
       " Row(userId='52', registration=1534613601000, count=1363),\n",
       " Row(userId='53', registration=1538050164000, count=2064),\n",
       " Row(userId='54', registration=1532482662000, count=3437),\n",
       " Row(userId='55', registration=1536649963000, count=489),\n",
       " Row(userId='56', registration=1537751138000, count=955),\n",
       " Row(userId='57', registration=1535062159000, count=112),\n",
       " Row(userId='58', registration=1537956751000, count=2027),\n",
       " Row(userId='59', registration=1537890437000, count=872),\n",
       " Row(userId='6', registration=1521380675000, count=3761),\n",
       " Row(userId='60', registration=1537014411000, count=1950),\n",
       " Row(userId='61', registration=1537188538000, count=1976),\n",
       " Row(userId='62', registration=1531804365000, count=1883),\n",
       " Row(userId='63', registration=1537586184000, count=107),\n",
       " Row(userId='64', registration=1537539836000, count=68),\n",
       " Row(userId='65', registration=1537347211000, count=2544),\n",
       " Row(userId='66', registration=1532634173000, count=1288),\n",
       " Row(userId='67', registration=1530674962000, count=1322),\n",
       " Row(userId='68', registration=1534359998000, count=48),\n",
       " Row(userId='69', registration=1536824159000, count=1342),\n",
       " Row(userId='7', registration=1536667576000, count=201),\n",
       " Row(userId='70', registration=1529643103000, count=1775),\n",
       " Row(userId='71', registration=1538253263000, count=329),\n",
       " Row(userId='72', registration=1530763799000, count=117),\n",
       " Row(userId='73', registration=1536102943000, count=457),\n",
       " Row(userId='74', registration=1537365219000, count=2887),\n",
       " Row(userId='75', registration=1537201808000, count=957),\n",
       " Row(userId='76', registration=1538065863000, count=272),\n",
       " Row(userId='77', registration=1537749786000, count=1229),\n",
       " Row(userId='78', registration=1538304455000, count=324),\n",
       " Row(userId='79', registration=1536919023000, count=321),\n",
       " Row(userId='8', registration=1533650280000, count=334),\n",
       " Row(userId='80', registration=1538316317000, count=474),\n",
       " Row(userId='81', registration=1535093367000, count=2335),\n",
       " Row(userId='82', registration=1536963370000, count=2049),\n",
       " Row(userId='83', registration=1532771049000, count=1496),\n",
       " Row(userId='84', registration=1537821607000, count=97),\n",
       " Row(userId='85', registration=1534133898000, count=4370),\n",
       " Row(userId='86', registration=1531760527000, count=818),\n",
       " Row(userId='87', registration=1534942082000, count=1003),\n",
       " Row(userId='88', registration=1536663902000, count=2465),\n",
       " Row(userId='89', registration=1535774889000, count=801),\n",
       " Row(userId='9', registration=1538331630000, count=3191),\n",
       " Row(userId='90', registration=1533995214000, count=45),\n",
       " Row(userId='91', registration=1533398428000, count=3014),\n",
       " Row(userId='92', registration=1536403972000, count=7230),\n",
       " Row(userId='93', registration=1537484200000, count=815),\n",
       " Row(userId='94', registration=1531350022000, count=187),\n",
       " Row(userId='95', registration=1538211832000, count=2091),\n",
       " Row(userId='96', registration=1537149749000, count=2176),\n",
       " Row(userId='97', registration=1536019842000, count=2404),\n",
       " Row(userId='98', registration=1538069638000, count=2891),\n",
       " Row(userId='99', registration=1531811983000, count=614)]"
      ]
     },
     "execution_count": 182,
     "metadata": {},
     "output_type": "execute_result"
    }
   ],
   "source": [
    "df_clean.groupBy(['userId','registration']).count().sort('userId').collect()"
   ]
  },
  {
   "cell_type": "code",
   "execution_count": 183,
   "metadata": {},
   "outputs": [],
   "source": [
    "states = df_clean.select(\"location\").distinct().rdd.flatMap(lambda x: list(x)).\\\n",
    "                                           flatMap(lambda loc:[loc.split(', ',1)[-1]]).\\\n",
    "                                           flatMap(lambda state: state.split('-')).collect()"
   ]
  },
  {
   "cell_type": "code",
   "execution_count": 184,
   "metadata": {},
   "outputs": [],
   "source": [
    "states = set(states)\n",
    "states = list(states)"
   ]
  },
  {
   "cell_type": "code",
   "execution_count": 185,
   "metadata": {},
   "outputs": [],
   "source": [
    "to_int = udf(lambda x: int(x))\n",
    "final = df_clean.groupBy(['userId','gender','location']).agg(countDistinct('artist').alias('artists'),\\\n",
    "                                 avg('itemInSession').alias('avgItemInSession'),\\\n",
    "                                 avg('length').alias('avgLength'),\\\n",
    "                                 to_int((sparkMax('ts')-sparkMax('registration'))/86400).alias('activeDuration'),\\\n",
    "                                 countDistinct(when(col('level')=='paid',col('sessionId'))).alias('paid_sessions'),\\\n",
    "                                 countDistinct(when(col('level')=='free',col('sessionId'))).alias('free_sessions'),\\\n",
    "                                 countDistinct('song').alias('songs'), \\\n",
    "                                 count(when(col('status') == 404,1)).alias('resp_404'),\\\n",
    "                                 count(when(col('status') == 307,1)).alias('resp_307'),\\\n",
    "                                 count(when(col('status') == 200,1)).alias('resp_200'),\\\n",
    "                                 count(when(col('page') =='Error', 1)).alias('page_error'), \\\n",
    "                                 count(when(col('page') =='Help', 1)).alias('page_help'), \\\n",
    "                                 count(when(col('page') =='Cancel', 1)).alias('page_cancel'), \\\n",
    "                                 count(when(col('page') =='Submit Downgrade', 1)).alias('page_submitDowngrade'), \\\n",
    "                                 count(when(col('page') =='Thumbs Down', 1)).alias('page_thumpDown'), \\\n",
    "                                 count(when(col('page') =='Home', 1)).alias('page_home'), \\\n",
    "                                 count(when(col('page') =='Downgrade', 1)).alias('page_downgrade'), \\\n",
    "                                 count(when(col('page') =='Roll Advert', 1)).alias('page_rollAdvert'), \\\n",
    "                                 count(when(col('page') =='Logout', 1)).alias('page_logout'), \\\n",
    "                                 count(when(col('page') =='Save Settings', 1)).alias('page_saveSettings'), \\\n",
    "                                 count(when(col('page') =='About', 1)).alias('page_about'), \\\n",
    "                                 count(when(col('page') =='Settings', 1)).alias('page_settings'), \\\n",
    "                                 count(when(col('page') =='Add to Playlist', 1)).alias('page_addtoPlaylist'), \\\n",
    "                                 count(when(col('page') =='Add Friend', 1)).alias('page_addFriend'), \\\n",
    "                                 count(when(col('page') =='Thumbs Up', 1)).alias('page_thumpsUp'), \\\n",
    "                                 count(when(col('page') =='Upgrade', 1)).alias('page_upgrade'), \\\n",
    "                                 count(when(col('page') =='Submit Upgrade', 1)).alias('page_submitUpgrade'), \\\n",
    "                                 count(when(col(\"churn\")>0,True)).alias('churn'))\\\n",
    "                           .sort('userId').collect()\n",
    "df_final = spark.createDataFrame(final)"
   ]
  },
  {
   "cell_type": "code",
   "execution_count": 186,
   "metadata": {},
   "outputs": [],
   "source": [
    "isMale = udf(lambda x: 1 if x == 'M' else 0)\n",
    "isFemale = udf(lambda x: 1 if x == 'F' else 0)\n",
    "df_final = df_final.withColumn('Male', isMale('gender').cast(IntegerType())).withColumn('Femal', isFemale('gender').cast(IntegerType())).drop('gender')"
   ]
  },
  {
   "cell_type": "code",
   "execution_count": 187,
   "metadata": {},
   "outputs": [],
   "source": [
    "def is_in_state(state):\n",
    "    def check(x):\n",
    "        if state in x.split(', ',1)[-1].split('-'): \n",
    "            return 1\n",
    "        else:\n",
    "            return 0\n",
    "    return udf(check, IntegerType() )\n",
    "for state in states:\n",
    "    df_final = df_final.withColumn(state, is_in_state(state)('location'))"
   ]
  },
  {
   "cell_type": "code",
   "execution_count": 188,
   "metadata": {},
   "outputs": [],
   "source": [
    "df_final = df_final.drop('location')"
   ]
  },
  {
   "cell_type": "code",
   "execution_count": 189,
   "metadata": {},
   "outputs": [],
   "source": [
    "df_final = df_final.withColumn(\"id\", df_final[\"userId\"].cast('int')).drop('userId')"
   ]
  },
  {
   "cell_type": "code",
   "execution_count": 190,
   "metadata": {},
   "outputs": [],
   "source": [
    "df_final = df_final.withColumn(\"active\", df_final[\"activeDuration\"].cast('int')).drop('activeDuration')"
   ]
  },
  {
   "cell_type": "code",
   "execution_count": 191,
   "metadata": {},
   "outputs": [
    {
     "name": "stdout",
     "output_type": "stream",
     "text": [
      "+-------+------------------+------------------+-------------+-------------+-----+--------+--------+--------+----------+---------+-----------+--------------------+--------------+---------+--------------+---------------+-----------+-----------------+----------+-------------+------------------+--------------+-------------+------------+------------------+-----+----+-----+---+---+---+---+---+---+---+---+---+---+---+---+---+---+---+---+---+---+---+---+---+---+---+---+---+---+---+---+---+---+---+---+---+---+---+---+------+---+---+---+---+---+---+---+------+\n",
      "|artists|  avgItemInSession|         avgLength|paid_sessions|free_sessions|songs|resp_404|resp_307|resp_200|page_error|page_help|page_cancel|page_submitDowngrade|page_thumpDown|page_home|page_downgrade|page_rollAdvert|page_logout|page_saveSettings|page_about|page_settings|page_addtoPlaylist|page_addFriend|page_thumpsUp|page_upgrade|page_submitUpgrade|churn|Male|Femal| KY| RI| MO| NJ| WA| OR| MA| CA| WI| UT| NY| WV| AL| KS| NV| MT| IA| OH| NE| GA| TN| AR| LA| SC| CT| PA| CO| IN| DC| MI| MN| FL| AZ| OK| AK| DE|    id| TX| MD| IL| MS| VA| NC| NH|active|\n",
      "+-------+------------------+------------------+-------------+-------------+-----+--------+--------+--------+----------+---------+-----------+--------------------+--------------+---------+--------------+---------------+-----------+-----------------+----------+-------------+------------------+--------------+-------------+------------+------------------+-----+----+-----+---+---+---+---+---+---+---+---+---+---+---+---+---+---+---+---+---+---+---+---+---+---+---+---+---+---+---+---+---+---+---+---+---+---+---+---+------+---+---+---+---+---+---+---+------+\n",
      "|    565|146.23899371069183|247.94408991084703|            6|            0|  629|       0|      65|     730|         0|        1|          0|                   0|             4|       30|             7|              1|         11|                1|         2|            7|                 9|            12|           37|           0|                 0|    0|   1|    0|  0|  0|  0|  0|  0|  0|  0|  0|  0|  0|  0|  0|  0|  0|  0|  0|  0|  0|  0|  0|  0|  0|  0|  0|  0|  0|  0|  0|  0|  0|  0|  0|  0|  0|  0|  0|    10|  0|  0|  0|  1|  0|  0|  0| 51762|\n",
      "|   1705| 89.31487243310517|250.88659828113387|           29|            8| 2302|       3|     266|    2945|         3|       18|          0|                   1|            27|      105|            30|             25|         35|                5|        12|           11|                61|            49|          148|           1|                 1|    0|   1|    0|  0|  0|  0|  0|  0|  0|  0|  0|  0|  0|  0|  0|  0|  0|  0|  0|  0|  0|  0|  0|  0|  0|  0|  0|  0|  0|  0|  0|  0|  0|  0|  0|  0|  0|  0|  0|   100|  1|  0|  0|  0|  0|  0|  0| 64873|\n",
      "|    125|28.513368983957218|263.71234699248123|            0|            4|  129|       1|      20|     166|         1|        1|          1|                   0|             2|       11|             0|             14|          7|                0|         0|            1|                 3|             2|            8|           2|                 0|    1|   0|    1|  0|  0|  0|  0|  0|  0|  0|  0|  0|  0|  0|  0|  0|  0|  0|  0|  0|  0|  0|  0|  0|  0|  0|  0|  0|  0|  0|  0|  0|  0|  0|  1|  0|  0|  0|  0|100001|  0|  0|  0|  0|  0|  0|  0| 44800|\n",
      "|    184|  83.4770642201835|254.15342615384608|            4|            0|  193|       0|       7|     211|         0|        0|          0|                   0|             0|        6|             2|              3|          1|                0|         0|            0|                 5|             1|            5|           0|                 0|    0|   0|    1|  0|  0|  0|  0|  0|  0|  0|  1|  0|  0|  0|  0|  0|  0|  0|  0|  0|  0|  0|  0|  0|  0|  0|  0|  0|  0|  0|  0|  0|  0|  0|  0|  0|  0|  0|  0|100002|  0|  0|  0|  0|  0|  0|  0|160472|\n",
      "|     50| 40.65384615384615|241.30233960784318|            0|            2|   51|       0|       7|      71|         0|        1|          1|                   0|             0|        7|             0|              9|          3|                0|         0|            0|                 2|             0|            3|           0|                 0|    1|   0|    1|  0|  0|  0|  0|  0|  0|  0|  0|  0|  0|  0|  0|  0|  0|  0|  0|  0|  0|  0|  0|  0|  0|  0|  0|  0|  0|  0|  0|  0|  0|  0|  1|  0|  0|  0|  0|100003|  0|  0|  0|  0|  0|  0|  0| 22748|\n",
      "+-------+------------------+------------------+-------------+-------------+-----+--------+--------+--------+----------+---------+-----------+--------------------+--------------+---------+--------------+---------------+-----------+-----------------+----------+-------------+------------------+--------------+-------------+------------+------------------+-----+----+-----+---+---+---+---+---+---+---+---+---+---+---+---+---+---+---+---+---+---+---+---+---+---+---+---+---+---+---+---+---+---+---+---+---+---+---+---+------+---+---+---+---+---+---+---+------+\n",
      "only showing top 5 rows\n",
      "\n"
     ]
    }
   ],
   "source": [
    "df_final.show(5)"
   ]
  },
  {
   "cell_type": "code",
   "execution_count": 192,
   "metadata": {},
   "outputs": [
    {
     "name": "stdout",
     "output_type": "stream",
     "text": [
      "+-------+----------------+---------+-------------+-------------+-----+--------+--------+--------+----------+---------+-----------+--------------------+--------------+---------+--------------+---------------+-----------+-----------------+----------+-------------+------------------+--------------+-------------+------------+------------------+-----+----+-----+---+---+---+---+---+---+---+---+---+---+---+---+---+---+---+---+---+---+---+---+---+---+---+---+---+---+---+---+---+---+---+---+---+---+---+---+---+---+---+---+---+---+---+---+------+\n",
      "|artists|avgItemInSession|avgLength|paid_sessions|free_sessions|songs|resp_404|resp_307|resp_200|page_error|page_help|page_cancel|page_submitDowngrade|page_thumpDown|page_home|page_downgrade|page_rollAdvert|page_logout|page_saveSettings|page_about|page_settings|page_addtoPlaylist|page_addFriend|page_thumpsUp|page_upgrade|page_submitUpgrade|churn|Male|Femal| KY| RI| MO| NJ| WA| OR| MA| CA| WI| UT| NY| WV| AL| KS| NV| MT| IA| OH| NE| GA| TN| AR| LA| SC| CT| PA| CO| IN| DC| MI| MN| FL| AZ| OK| AK| DE| id| TX| MD| IL| MS| VA| NC| NH|active|\n",
      "+-------+----------------+---------+-------------+-------------+-----+--------+--------+--------+----------+---------+-----------+--------------------+--------------+---------+--------------+---------------+-----------+-----------------+----------+-------------+------------------+--------------+-------------+------------+------------------+-----+----+-----+---+---+---+---+---+---+---+---+---+---+---+---+---+---+---+---+---+---+---+---+---+---+---+---+---+---+---+---+---+---+---+---+---+---+---+---+---+---+---+---+---+---+---+---+------+\n",
      "|      0|               0|        0|            0|            0|    0|       0|       0|       0|         0|        0|          0|                   0|             0|        0|             0|              0|          0|                0|         0|            0|                 0|             0|            0|           0|                 0|    0|   0|    0|  0|  0|  0|  0|  0|  0|  0|  0|  0|  0|  0|  0|  0|  0|  0|  0|  0|  0|  0|  0|  0|  0|  0|  0|  0|  0|  0|  0|  0|  0|  0|  0|  0|  0|  0|  0|  0|  0|  0|  0|  0|  0|  0|  0|     0|\n",
      "+-------+----------------+---------+-------------+-------------+-----+--------+--------+--------+----------+---------+-----------+--------------------+--------------+---------+--------------+---------------+-----------+-----------------+----------+-------------+------------------+--------------+-------------+------------+------------------+-----+----+-----+---+---+---+---+---+---+---+---+---+---+---+---+---+---+---+---+---+---+---+---+---+---+---+---+---+---+---+---+---+---+---+---+---+---+---+---+---+---+---+---+---+---+---+---+------+\n",
      "\n"
     ]
    }
   ],
   "source": [
    "df_final.select([count(when(isnan(c) | col(c).isNull(), c)).alias(c) for c in df_final.columns]).show()"
   ]
  },
  {
   "cell_type": "markdown",
   "metadata": {},
   "source": [
    "# Modeling\n",
    "Split the full dataset into train, test, and validation sets. Test out several of the machine learning methods you learned. Evaluate the accuracy of the various models, tuning parameters as necessary. Determine your winning model based on test accuracy and report results on the validation set. Since the churned users are a fairly small subset, I suggest using F1 score as the metric to optimize."
   ]
  },
  {
   "cell_type": "code",
   "execution_count": 194,
   "metadata": {},
   "outputs": [],
   "source": [
    "df_ready = df_final"
   ]
  },
  {
   "cell_type": "code",
   "execution_count": 195,
   "metadata": {},
   "outputs": [],
   "source": [
    "X = df_ready.drop('churn')\n",
    "y = df_ready.select('churn')"
   ]
  },
  {
   "cell_type": "code",
   "execution_count": 196,
   "metadata": {},
   "outputs": [],
   "source": [
    "train, test = df_ready.randomSplit([0.7, 0.3], seed=0)"
   ]
  },
  {
   "cell_type": "code",
   "execution_count": 197,
   "metadata": {},
   "outputs": [],
   "source": [
    "features_col = [col for col in X.columns]\n",
    "def build_model(classifier, param):\n",
    "    assembler = VectorAssembler(inputCols=features_col, outputCol=\"features\", handleInvalid='skip')\n",
    "    normalizer = Normalizer(inputCol=\"features\", outputCol=\"normFeatures\")\n",
    "    pipeline = Pipeline(stages=[assembler,normalizer,classifier ])\n",
    "\n",
    "    model = CrossValidator(\n",
    "        estimator=pipeline,\n",
    "        estimatorParamMaps=param,\n",
    "        evaluator=MulticlassClassificationEvaluator(labelCol='churn', metricName='f1'),\n",
    "        numFolds=5,\n",
    "    )\n",
    "    return model"
   ]
  },
  {
   "cell_type": "code",
   "execution_count": 198,
   "metadata": {},
   "outputs": [],
   "source": [
    "classifier = RandomForestClassifier(featuresCol=\"normFeatures\", labelCol=\"churn\")\n",
    "classifier_param = ParamGridBuilder().build()\n",
    "classifier_model = build_model(classifier, classifier_param)"
   ]
  },
  {
   "cell_type": "code",
   "execution_count": 199,
   "metadata": {},
   "outputs": [],
   "source": [
    "classifier_fit_model = classifier_model.fit(train)"
   ]
  },
  {
   "cell_type": "code",
   "execution_count": 200,
   "metadata": {},
   "outputs": [],
   "source": [
    "pred = classifier_fit_model.transform(test)"
   ]
  },
  {
   "cell_type": "code",
   "execution_count": 201,
   "metadata": {},
   "outputs": [
    {
     "name": "stdout",
     "output_type": "stream",
     "text": [
      "root\n",
      " |-- artists: long (nullable = true)\n",
      " |-- avgItemInSession: double (nullable = true)\n",
      " |-- avgLength: double (nullable = true)\n",
      " |-- paid_sessions: long (nullable = true)\n",
      " |-- free_sessions: long (nullable = true)\n",
      " |-- songs: long (nullable = true)\n",
      " |-- resp_404: long (nullable = true)\n",
      " |-- resp_307: long (nullable = true)\n",
      " |-- resp_200: long (nullable = true)\n",
      " |-- page_error: long (nullable = true)\n",
      " |-- page_help: long (nullable = true)\n",
      " |-- page_cancel: long (nullable = true)\n",
      " |-- page_submitDowngrade: long (nullable = true)\n",
      " |-- page_thumpDown: long (nullable = true)\n",
      " |-- page_home: long (nullable = true)\n",
      " |-- page_downgrade: long (nullable = true)\n",
      " |-- page_rollAdvert: long (nullable = true)\n",
      " |-- page_logout: long (nullable = true)\n",
      " |-- page_saveSettings: long (nullable = true)\n",
      " |-- page_about: long (nullable = true)\n",
      " |-- page_settings: long (nullable = true)\n",
      " |-- page_addtoPlaylist: long (nullable = true)\n",
      " |-- page_addFriend: long (nullable = true)\n",
      " |-- page_thumpsUp: long (nullable = true)\n",
      " |-- page_upgrade: long (nullable = true)\n",
      " |-- page_submitUpgrade: long (nullable = true)\n",
      " |-- churn: long (nullable = true)\n",
      " |-- Male: integer (nullable = true)\n",
      " |-- Femal: integer (nullable = true)\n",
      " |-- KY: integer (nullable = true)\n",
      " |-- RI: integer (nullable = true)\n",
      " |-- MO: integer (nullable = true)\n",
      " |-- NJ: integer (nullable = true)\n",
      " |-- WA: integer (nullable = true)\n",
      " |-- OR: integer (nullable = true)\n",
      " |-- MA: integer (nullable = true)\n",
      " |-- CA: integer (nullable = true)\n",
      " |-- WI: integer (nullable = true)\n",
      " |-- UT: integer (nullable = true)\n",
      " |-- NY: integer (nullable = true)\n",
      " |-- WV: integer (nullable = true)\n",
      " |-- AL: integer (nullable = true)\n",
      " |-- KS: integer (nullable = true)\n",
      " |-- NV: integer (nullable = true)\n",
      " |-- MT: integer (nullable = true)\n",
      " |-- IA: integer (nullable = true)\n",
      " |-- OH: integer (nullable = true)\n",
      " |-- NE: integer (nullable = true)\n",
      " |-- GA: integer (nullable = true)\n",
      " |-- TN: integer (nullable = true)\n",
      " |-- AR: integer (nullable = true)\n",
      " |-- LA: integer (nullable = true)\n",
      " |-- SC: integer (nullable = true)\n",
      " |-- CT: integer (nullable = true)\n",
      " |-- PA: integer (nullable = true)\n",
      " |-- CO: integer (nullable = true)\n",
      " |-- IN: integer (nullable = true)\n",
      " |-- DC: integer (nullable = true)\n",
      " |-- MI: integer (nullable = true)\n",
      " |-- MN: integer (nullable = true)\n",
      " |-- FL: integer (nullable = true)\n",
      " |-- AZ: integer (nullable = true)\n",
      " |-- OK: integer (nullable = true)\n",
      " |-- AK: integer (nullable = true)\n",
      " |-- DE: integer (nullable = true)\n",
      " |-- id: integer (nullable = true)\n",
      " |-- TX: integer (nullable = true)\n",
      " |-- MD: integer (nullable = true)\n",
      " |-- IL: integer (nullable = true)\n",
      " |-- MS: integer (nullable = true)\n",
      " |-- VA: integer (nullable = true)\n",
      " |-- NC: integer (nullable = true)\n",
      " |-- NH: integer (nullable = true)\n",
      " |-- active: integer (nullable = true)\n",
      " |-- features: vector (nullable = true)\n",
      " |-- normFeatures: vector (nullable = true)\n",
      " |-- rawPrediction: vector (nullable = true)\n",
      " |-- probability: vector (nullable = true)\n",
      " |-- prediction: double (nullable = false)\n",
      "\n"
     ]
    }
   ],
   "source": [
    "pred.printSchema()"
   ]
  },
  {
   "cell_type": "code",
   "execution_count": 202,
   "metadata": {},
   "outputs": [
    {
     "name": "stdout",
     "output_type": "stream",
     "text": [
      "f1: 0.9678544494720964\n"
     ]
    }
   ],
   "source": [
    "evaluator = MulticlassClassificationEvaluator(predictionCol=\"prediction\", labelCol=\"churn\")\n",
    "f1_score = evaluator.evaluate(pred, {evaluator.metricName: \"f1\"})\n",
    "print(\"f1: {}\".format(f1_score))"
   ]
  },
  {
   "cell_type": "markdown",
   "metadata": {},
   "source": [
    "# Final Steps\n",
    "Clean up your code, adding comments and renaming variables to make the code easier to read and maintain. Refer to the Spark Project Overview page and Data Scientist Capstone Project Rubric to make sure you are including all components of the capstone project and meet all expectations. Remember, this includes thorough documentation in a README file in a Github repository, as well as a web app or blog post."
   ]
  },
  {
   "cell_type": "code",
   "execution_count": 203,
   "metadata": {},
   "outputs": [],
   "source": [
    "def create_session():\n",
    "    '''\n",
    "        creates a new spark session locally\n",
    "        input:()\n",
    "        output:(\n",
    "            spark: a pointer to the newly created spark session\n",
    "        )\n",
    "    '''\n",
    "    spark = SparkSession.builder \\\n",
    "        .master(\"local\") \\\n",
    "        .appName(\"Sparkify\") \\\n",
    "        .getOrCreate()\n",
    "    spark.conf.set('spark.executor.memory', '32gb')\n",
    "    spark.conf.set('spark.driver.memory','32gb')\n",
    "    return spark\n"
   ]
  },
  {
   "cell_type": "code",
   "execution_count": 204,
   "metadata": {},
   "outputs": [],
   "source": [
    "def load_clean_data(spark, file):\n",
    "    '''\n",
    "        creates a new spark session locally\n",
    "        input:(\n",
    "            spark: The spark session,\n",
    "            file: String - The path to the file containing data \n",
    "        )\n",
    "        output:(\n",
    "            df_clean: DataFrame - Dataframe contining loaded data after removing null and empty string \n",
    "                      values\n",
    "    '''\n",
    "    sparkify_datail = file\n",
    "    df = spark.read.json(sparkify_data)\n",
    "    df.persist()\n",
    "    #drop rows with null values\n",
    "    df_clean = df.dropna(how='any',subset=['userId','sessionId'])\n",
    "    df_clean = df_clean.filter(df[\"userId\"] != \"\")\n",
    "    return df_clean"
   ]
  },
  {
   "cell_type": "code",
   "execution_count": 208,
   "metadata": {},
   "outputs": [],
   "source": [
    "def is_in_state(state):\n",
    "    def check(x):\n",
    "        if state in x.split(', ',1)[-1].split('-'): \n",
    "            return 1\n",
    "        else:\n",
    "            return 0\n",
    "    return udf(check, IntegerType() )\n",
    "\n",
    "    \n",
    "def extract_features(spark, df_clean):\n",
    "    '''\n",
    "        Extract featured appropriate for training the model\n",
    "        input:(\n",
    "            spark: The spark session,\n",
    "            df_clean: DataFrame - Dataframe containing clean data \n",
    "        )\n",
    "        output:(\n",
    "            df_final: DataFrame - Dataframe contining the extracted features\n",
    "    '''\n",
    "           \n",
    "    #add churn column\n",
    "    check_churn = udf(lambda x: 1 if x == 'Cancellation Confirmation' else 0)\n",
    "    df_clean = df_clean.withColumn('churn',check_churn(df_clean.page).cast(DoubleType()) )\n",
    "    \n",
    "    #create df_final with aggregate features\n",
    "    to_int = udf(lambda x: int(x))\n",
    "    final = df_clean.groupBy(['userId','gender','location']).agg(countDistinct('artist').alias('artists'),\\\n",
    "                                 avg('itemInSession').alias('avgItemInSession'),\\\n",
    "                                 avg('length').alias('avgLength'),\\\n",
    "                                 to_int((sparkMax('ts')-sparkMax('registration'))/86400).alias('activeDuration'),\\\n",
    "                                 countDistinct(when(col('level')=='paid',col('sessionId'))).alias('paid_sessions'),\\\n",
    "                                 countDistinct(when(col('level')=='free',col('sessionId'))).alias('free_sessions'),\\\n",
    "                                 countDistinct('song').alias('songs'), \\\n",
    "                                 count(when(col('status') == 404,1)).alias('resp_404'),\\\n",
    "                                 count(when(col('status') == 307,1)).alias('resp_307'),\\\n",
    "                                 count(when(col('status') == 200,1)).alias('resp_200'),\\\n",
    "                                 count(when(col('page') =='Error', 1)).alias('page_error'), \\\n",
    "                                 count(when(col('page') =='Help', 1)).alias('page_help'), \\\n",
    "                                 count(when(col('page') =='Cancel', 1)).alias('page_cancel'), \\\n",
    "                                 count(when(col('page') =='Submit Downgrade', 1)).alias('page_submitDowngrade'), \\\n",
    "                                 count(when(col('page') =='Thumbs Down', 1)).alias('page_thumpDown'), \\\n",
    "                                 count(when(col('page') =='Home', 1)).alias('page_home'), \\\n",
    "                                 count(when(col('page') =='Downgrade', 1)).alias('page_downgrade'), \\\n",
    "                                 count(when(col('page') =='Roll Advert', 1)).alias('page_rollAdvert'), \\\n",
    "                                 count(when(col('page') =='Logout', 1)).alias('page_logout'), \\\n",
    "                                 count(when(col('page') =='Save Settings', 1)).alias('page_saveSettings'), \\\n",
    "                                 count(when(col('page') =='About', 1)).alias('page_about'), \\\n",
    "                                 count(when(col('page') =='Settings', 1)).alias('page_settings'), \\\n",
    "                                 count(when(col('page') =='Add to Playlist', 1)).alias('page_addtoPlaylist'), \\\n",
    "                                 count(when(col('page') =='Add Friend', 1)).alias('page_addFriend'), \\\n",
    "                                 count(when(col('page') =='Thumbs Up', 1)).alias('page_thumpsUp'), \\\n",
    "                                 count(when(col('page') =='Upgrade', 1)).alias('page_upgrade'), \\\n",
    "                                 count(when(col('page') =='Submit Upgrade', 1)).alias('page_submitUpgrade'), \\\n",
    "                                 count(when(col(\"churn\")>0,True)).alias('churn'))\\\n",
    "                           .sort('userId').collect()\n",
    "    df_final = spark.createDataFrame(final)\n",
    "    \n",
    "    #create dummy columns for the gender column Male or Female\n",
    "    isMale = udf(lambda x: 1 if x == 'M' else 0)\n",
    "    isFemale = udf(lambda x: 1 if x == 'F' else 0)\n",
    "    df_final = df_final.withColumn('Male', isMale('gender').cast(IntegerType())).withColumn('Femal', isFemale('gender').cast(IntegerType())).drop('gender')                                       \n",
    "      \n",
    "    \n",
    "    #create dummy columns for the state of the user\n",
    "    #read the list of states\n",
    "    states = df_clean.select(\"location\").distinct().rdd.flatMap(lambda x: list(x)).\\\n",
    "                                           flatMap(lambda loc:[loc.split(', ',1)[-1]]).\\\n",
    "                                           flatMap(lambda state: state.split('-')).collect()\n",
    "    states = set(states)\n",
    "    states = list(states)\n",
    "    \n",
    "    for state in states:\n",
    "        df_final = df_final.withColumn(state, is_in_state(state)('location'))\n",
    "    df_final = df_final.drop('location')\n",
    "    \n",
    "    #convert userId column to int\n",
    "    df_final = df_final.withColumn(\"id\", df_final[\"userId\"].cast('int')).drop('userId')\n",
    "    \n",
    "    #convert activeDuration column to int\n",
    "    df_final = df_final.withColumn(\"active\", df_final[\"activeDuration\"].cast('int')).drop('activeDuration') \n",
    "    \n",
    "    return df_final\n",
    "    "
   ]
  },
  {
   "cell_type": "code",
   "execution_count": 209,
   "metadata": {},
   "outputs": [],
   "source": [
    "def build_model(classifier, param,features_col):\n",
    "    '''\n",
    "        Builds the model used for training the data\n",
    "        input:(\n",
    "            classifier: The classifier used for training the model,\n",
    "            params: Parameters to be used for training the model as returned by ParamGridBuilder\n",
    "        )\n",
    "        output:(\n",
    "            model: The model to be used for training the data\n",
    "    '''\n",
    "    assembler = VectorAssembler(inputCols=features_col, outputCol=\"features\", handleInvalid='skip')\n",
    "    normalizer = Normalizer(inputCol=\"features\", outputCol=\"normFeatures\")\n",
    "    pipeline = Pipeline(stages=[assembler,normalizer,classifier ])\n",
    "\n",
    "    model = CrossValidator(\n",
    "        estimator=pipeline,\n",
    "        estimatorParamMaps=param,\n",
    "        evaluator=MulticlassClassificationEvaluator(labelCol='churn', metricName='f1'),\n",
    "        numFolds=5,\n",
    "    )\n",
    "    return model"
   ]
  },
  {
   "cell_type": "code",
   "execution_count": 213,
   "metadata": {},
   "outputs": [],
   "source": [
    "def train_model(df_ready):\n",
    "    '''\n",
    "        Trains the model\n",
    "        input:(\n",
    "            df_ready: DataFrame - The dataframe containinf features to train the modelridBuilder\n",
    "        )\n",
    "        output:(\n",
    "            classifier_fit_model: The model after training \n",
    "    '''\n",
    "    X = df_ready.drop('churn')\n",
    "    y = df_ready.select('churn')\n",
    "    train, test = df_ready.randomSplit([0.7, 0.3], seed=0)\n",
    "    features_col = [col for col in X.columns]\n",
    "    classifier = RandomForestClassifier(featuresCol=\"normFeatures\", labelCol=\"churn\")\n",
    "    classifier_param = ParamGridBuilder().build()\n",
    "    classifier_model = build_model(classifier, classifier_param, features_col)\n",
    "    classifier_fit_model = classifier_model.fit(train)\n",
    "    return classifier_fit_model"
   ]
  },
  {
   "cell_type": "code",
   "execution_count": 214,
   "metadata": {},
   "outputs": [],
   "source": [
    "def test_model(fit_model):\n",
    "    '''\n",
    "        Test and evaluate the model using f1_score\n",
    "        input:(\n",
    "            fit_model: The trained model\n",
    "        )\n",
    "        output:(\n",
    "            f1_score: float - The f1-score calculated after testing the model\n",
    "    '''\n",
    "    pred = fit_model.transform(test)\n",
    "    evaluator = MulticlassClassificationEvaluator(predictionCol=\"prediction\", labelCol=\"churn\")\n",
    "    f1_score = evaluator.evaluate(pred, {evaluator.metricName: \"f1\"})\n",
    "    \n",
    "    return f1_score"
   ]
  },
  {
   "cell_type": "code",
   "execution_count": 215,
   "metadata": {},
   "outputs": [
    {
     "name": "stdout",
     "output_type": "stream",
     "text": [
      "f1: 0.9678544494720964\n"
     ]
    }
   ],
   "source": [
    "spark = create_session()\n",
    "sparkify_data = 'mini_sparkify_event_data.json'\n",
    "df_clean = load_clean_data(spark, sparkify_data)\n",
    "df_ready = extract_features(spark, df_clean)\n",
    "classifier_fit_model = train_model(df_ready)\n",
    "f1_score = test_model(classifier_fit_model)\n",
    "print(\"f1: {}\".format(f1_score))"
   ]
  },
  {
   "cell_type": "code",
   "execution_count": null,
   "metadata": {},
   "outputs": [],
   "source": []
  }
 ],
 "metadata": {
  "kernelspec": {
   "display_name": "Python 3",
   "language": "python",
   "name": "python3"
  },
  "language_info": {
   "codemirror_mode": {
    "name": "ipython",
    "version": 3
   },
   "file_extension": ".py",
   "mimetype": "text/x-python",
   "name": "python",
   "nbconvert_exporter": "python",
   "pygments_lexer": "ipython3",
   "version": "3.6.3"
  }
 },
 "nbformat": 4,
 "nbformat_minor": 2
}
